{
 "cells": [
  {
   "cell_type": "markdown",
   "metadata": {
    "id": "r9PgS0fesF3L"
   },
   "source": [
    "## **Student Courses Exploratory Data Analysis (Udemy)**\n",
    "\n",
    "\n",
    "\n",
    "\n",
    "\n",
    "\n",
    "\n"
   ]
  },
  {
   "cell_type": "markdown",
   "metadata": {
    "id": "X3kUoHEtu0g8"
   },
   "source": [
    "## **1. Import libraries**"
   ]
  },
  {
   "cell_type": "code",
   "execution_count": 1,
   "metadata": {
    "id": "k8MYmj1BvBYj"
   },
   "outputs": [],
   "source": [
    "import pandas as pd\n",
    "import numpy as np\n",
    "import matplotlib.pyplot as plt\n",
    "from scipy.stats import spearmanr\n",
    "import seaborn as sns\n",
    "import statsmodels.api as sm\n",
    "from statsmodels.stats.outliers_influence import variance_inflation_factor\n",
    "from sklearn import metrics\n",
    "from sklearn.metrics import r2_score\n",
    "from sklearn.model_selection import train_test_split\n",
    "sns.set()\n",
    "import warnings\n",
    "warnings.filterwarnings(\"ignore\", category=FutureWarning)"
   ]
  },
  {
   "cell_type": "markdown",
   "metadata": {
    "id": "WunavpsjvJfh"
   },
   "source": [
    "## **2. Read data**"
   ]
  },
  {
   "cell_type": "code",
   "execution_count": 2,
   "metadata": {
    "colab": {
     "base_uri": "https://localhost:8080/",
     "height": 641
    },
    "id": "HYwXLknaqsLS",
    "outputId": "0ae33e7b-5d4b-4ed2-c785-29e66b33ff5d"
   },
   "outputs": [
    {
     "data": {
      "text/html": [
       "<div>\n",
       "<style scoped>\n",
       "    .dataframe tbody tr th:only-of-type {\n",
       "        vertical-align: middle;\n",
       "    }\n",
       "\n",
       "    .dataframe tbody tr th {\n",
       "        vertical-align: top;\n",
       "    }\n",
       "\n",
       "    .dataframe thead th {\n",
       "        text-align: right;\n",
       "    }\n",
       "</style>\n",
       "<table border=\"1\" class=\"dataframe\">\n",
       "  <thead>\n",
       "    <tr style=\"text-align: right;\">\n",
       "      <th></th>\n",
       "      <th>course_id</th>\n",
       "      <th>course_title</th>\n",
       "      <th>url</th>\n",
       "      <th>is_paid</th>\n",
       "      <th>price</th>\n",
       "      <th>num_subscribers</th>\n",
       "      <th>num_reviews</th>\n",
       "      <th>num_lectures</th>\n",
       "      <th>level</th>\n",
       "      <th>content_duration</th>\n",
       "      <th>published_timestamp</th>\n",
       "      <th>subject</th>\n",
       "    </tr>\n",
       "  </thead>\n",
       "  <tbody>\n",
       "    <tr>\n",
       "      <th>0</th>\n",
       "      <td>1070968</td>\n",
       "      <td>Ultimate Investment Banking Course</td>\n",
       "      <td>https://www.udemy.com/ultimate-investment-bank...</td>\n",
       "      <td>True</td>\n",
       "      <td>200</td>\n",
       "      <td>2147</td>\n",
       "      <td>23</td>\n",
       "      <td>51</td>\n",
       "      <td>All Levels</td>\n",
       "      <td>1.5</td>\n",
       "      <td>2017-01-18T20:58:58Z</td>\n",
       "      <td>Business Finance</td>\n",
       "    </tr>\n",
       "    <tr>\n",
       "      <th>1</th>\n",
       "      <td>1113822</td>\n",
       "      <td>Complete GST Course &amp; Certification - Grow You...</td>\n",
       "      <td>https://www.udemy.com/goods-and-services-tax/</td>\n",
       "      <td>True</td>\n",
       "      <td>75</td>\n",
       "      <td>2792</td>\n",
       "      <td>923</td>\n",
       "      <td>274</td>\n",
       "      <td>All Levels</td>\n",
       "      <td>39.0</td>\n",
       "      <td>2017-03-09T16:34:20Z</td>\n",
       "      <td>Business Finance</td>\n",
       "    </tr>\n",
       "    <tr>\n",
       "      <th>2</th>\n",
       "      <td>1006314</td>\n",
       "      <td>Financial Modeling for Business Analysts and C...</td>\n",
       "      <td>https://www.udemy.com/financial-modeling-for-b...</td>\n",
       "      <td>True</td>\n",
       "      <td>45</td>\n",
       "      <td>2174</td>\n",
       "      <td>74</td>\n",
       "      <td>51</td>\n",
       "      <td>Intermediate Level</td>\n",
       "      <td>2.5</td>\n",
       "      <td>2016-12-19T19:26:30Z</td>\n",
       "      <td>Business Finance</td>\n",
       "    </tr>\n",
       "    <tr>\n",
       "      <th>3</th>\n",
       "      <td>1210588</td>\n",
       "      <td>Beginner to Pro - Financial Analysis in Excel ...</td>\n",
       "      <td>https://www.udemy.com/complete-excel-finance-c...</td>\n",
       "      <td>True</td>\n",
       "      <td>95</td>\n",
       "      <td>2451</td>\n",
       "      <td>11</td>\n",
       "      <td>36</td>\n",
       "      <td>All Levels</td>\n",
       "      <td>3.0</td>\n",
       "      <td>2017-05-30T20:07:24Z</td>\n",
       "      <td>Business Finance</td>\n",
       "    </tr>\n",
       "    <tr>\n",
       "      <th>4</th>\n",
       "      <td>1011058</td>\n",
       "      <td>How To Maximize Your Profits Trading Options</td>\n",
       "      <td>https://www.udemy.com/how-to-maximize-your-pro...</td>\n",
       "      <td>True</td>\n",
       "      <td>200</td>\n",
       "      <td>1276</td>\n",
       "      <td>45</td>\n",
       "      <td>26</td>\n",
       "      <td>Intermediate Level</td>\n",
       "      <td>2.0</td>\n",
       "      <td>2016-12-13T14:57:18Z</td>\n",
       "      <td>Business Finance</td>\n",
       "    </tr>\n",
       "  </tbody>\n",
       "</table>\n",
       "</div>"
      ],
      "text/plain": [
       "   course_id                                       course_title  \\\n",
       "0    1070968                 Ultimate Investment Banking Course   \n",
       "1    1113822  Complete GST Course & Certification - Grow You...   \n",
       "2    1006314  Financial Modeling for Business Analysts and C...   \n",
       "3    1210588  Beginner to Pro - Financial Analysis in Excel ...   \n",
       "4    1011058       How To Maximize Your Profits Trading Options   \n",
       "\n",
       "                                                 url  is_paid  price  \\\n",
       "0  https://www.udemy.com/ultimate-investment-bank...     True    200   \n",
       "1      https://www.udemy.com/goods-and-services-tax/     True     75   \n",
       "2  https://www.udemy.com/financial-modeling-for-b...     True     45   \n",
       "3  https://www.udemy.com/complete-excel-finance-c...     True     95   \n",
       "4  https://www.udemy.com/how-to-maximize-your-pro...     True    200   \n",
       "\n",
       "   num_subscribers  num_reviews  num_lectures               level  \\\n",
       "0             2147           23            51          All Levels   \n",
       "1             2792          923           274          All Levels   \n",
       "2             2174           74            51  Intermediate Level   \n",
       "3             2451           11            36          All Levels   \n",
       "4             1276           45            26  Intermediate Level   \n",
       "\n",
       "   content_duration   published_timestamp           subject  \n",
       "0               1.5  2017-01-18T20:58:58Z  Business Finance  \n",
       "1              39.0  2017-03-09T16:34:20Z  Business Finance  \n",
       "2               2.5  2016-12-19T19:26:30Z  Business Finance  \n",
       "3               3.0  2017-05-30T20:07:24Z  Business Finance  \n",
       "4               2.0  2016-12-13T14:57:18Z  Business Finance  "
      ]
     },
     "execution_count": 2,
     "metadata": {},
     "output_type": "execute_result"
    }
   ],
   "source": [
    "# Read the data from cvs into a Pandas DataFrame\n",
    "data= pd.read_csv('udemy_courses.csv')\n",
    "# It will show top 5 rows of dataset\n",
    "data.head(5)"
   ]
  },
  {
   "cell_type": "markdown",
   "metadata": {
    "id": "Dp0sjp64vdIw"
   },
   "source": [
    "## **About this data** "
   ]
  },
  {
   "cell_type": "markdown",
   "metadata": {
    "id": "D5vFGE7lvlQU"
   },
   "source": [
    "This dataset contains 3678 records of courses from 4 subjects (Business Finance, Graphic Design, Musical Instruments and Web Design taken from Udemy.\n",
    "\n",
    "Udemy is a massive online open course (MOOC) platform that offers both free and paid courses. Anybody can create a course, a business model by which allowed Udemy to have hundreds of thousands of courses.\n",
    "\n",
    "This version modifies column names, removes empty columns and aggregates everything into a single csv file for ease of use.\n",
    "\n",
    "This data refers from the site of Kaggle. For more information, please find the attach link.\n",
    "\n",
    "\n",
    "https://www.kaggle.com/datasets/andrewmvd/udemy-courses\n"
   ]
  },
  {
   "cell_type": "markdown",
   "metadata": {
    "id": "95X9Wz-kwR_7"
   },
   "source": [
    "## **Objective**"
   ]
  },
  {
   "cell_type": "markdown",
   "metadata": {
    "id": "bQP6QirIwWaF"
   },
   "source": [
    "Exploratory data analysis (EDA) to analyze the data using statistical techniques and graphical representation."
   ]
  },
  {
   "cell_type": "markdown",
   "metadata": {
    "id": "4XnEeTTGwgJG"
   },
   "source": [
    "## **3. Data review and checks**"
   ]
  },
  {
   "cell_type": "code",
   "execution_count": 3,
   "metadata": {
    "colab": {
     "base_uri": "https://localhost:8080/"
    },
    "id": "XBRX0Sa6q0HR",
    "outputId": "8c989666-d46d-41ea-b9ad-c53e8e90b046"
   },
   "outputs": [
    {
     "name": "stdout",
     "output_type": "stream",
     "text": [
      "(3678, 12)\n"
     ]
    }
   ],
   "source": [
    "print(data.shape)"
   ]
  },
  {
   "cell_type": "markdown",
   "metadata": {
    "id": "Y4w6w1yDvb_H"
   },
   "source": [
    "* There are 3678 rows and 12 column in the data"
   ]
  },
  {
   "cell_type": "code",
   "execution_count": 4,
   "metadata": {
    "colab": {
     "base_uri": "https://localhost:8080/"
    },
    "id": "WxTqQuFFq3Oj",
    "outputId": "b2cf6200-e0fa-47b5-8150-b017ea7531c1"
   },
   "outputs": [
    {
     "name": "stdout",
     "output_type": "stream",
     "text": [
      "['course_id', 'price', 'num_subscribers', 'num_reviews', 'num_lectures', 'content_duration']\n",
      "6\n",
      "['course_title', 'url', 'level', 'published_timestamp', 'subject']\n",
      "5\n"
     ]
    }
   ],
   "source": [
    "# Check data type in dataset\n",
    "numeric_col = list(data.select_dtypes(np.number))\n",
    "print((numeric_col))\n",
    "print(len(numeric_col))\n",
    "categorical_col = list(data.select_dtypes(include= 'object'))\n",
    "print((categorical_col))\n",
    "print(len(categorical_col))"
   ]
  },
  {
   "cell_type": "code",
   "execution_count": 5,
   "metadata": {
    "colab": {
     "base_uri": "https://localhost:8080/"
    },
    "id": "OaLCn2G-q6i8",
    "outputId": "ac3f80ec-27db-49f6-f4d0-9c2c3ced1f9e"
   },
   "outputs": [
    {
     "name": "stdout",
     "output_type": "stream",
     "text": [
      "<class 'pandas.core.frame.DataFrame'>\n",
      "RangeIndex: 3678 entries, 0 to 3677\n",
      "Data columns (total 12 columns):\n",
      " #   Column               Non-Null Count  Dtype  \n",
      "---  ------               --------------  -----  \n",
      " 0   course_id            3678 non-null   int64  \n",
      " 1   course_title         3678 non-null   object \n",
      " 2   url                  3678 non-null   object \n",
      " 3   is_paid              3678 non-null   bool   \n",
      " 4   price                3678 non-null   int64  \n",
      " 5   num_subscribers      3678 non-null   int64  \n",
      " 6   num_reviews          3678 non-null   int64  \n",
      " 7   num_lectures         3678 non-null   int64  \n",
      " 8   level                3678 non-null   object \n",
      " 9   content_duration     3678 non-null   float64\n",
      " 10  published_timestamp  3678 non-null   object \n",
      " 11  subject              3678 non-null   object \n",
      "dtypes: bool(1), float64(1), int64(5), object(5)\n",
      "memory usage: 319.8+ KB\n"
     ]
    }
   ],
   "source": [
    "data.info()"
   ]
  },
  {
   "cell_type": "markdown",
   "metadata": {
    "id": "_y5Md3sAxwVo"
   },
   "source": [
    "* There are 12 columns present in this data. Six columns have numeric type data, five columns contain categorical type data, and one column contains boolean data."
   ]
  },
  {
   "cell_type": "code",
   "execution_count": 6,
   "metadata": {
    "colab": {
     "base_uri": "https://localhost:8080/"
    },
    "id": "T17fZy1-q6sS",
    "outputId": "1c8c35e9-0648-4fe1-cce2-7fd174c7009b"
   },
   "outputs": [
    {
     "data": {
      "text/plain": [
       "6"
      ]
     },
     "execution_count": 6,
     "metadata": {},
     "output_type": "execute_result"
    }
   ],
   "source": [
    "# Check duplicat values in dataset\n",
    "data.duplicated().sum()"
   ]
  },
  {
   "cell_type": "markdown",
   "metadata": {
    "id": "3dTP85SIS8xn"
   },
   "source": [
    "* There are 6 duplicate values in dataset. So, we drop these duplicate values from the data."
   ]
  },
  {
   "cell_type": "code",
   "execution_count": 7,
   "metadata": {
    "colab": {
     "base_uri": "https://localhost:8080/"
    },
    "id": "1v8QbndhSzW8",
    "outputId": "4a982ea4-a7b2-43be-8d9b-1df255493d86"
   },
   "outputs": [
    {
     "data": {
      "text/plain": [
       "0"
      ]
     },
     "execution_count": 7,
     "metadata": {},
     "output_type": "execute_result"
    }
   ],
   "source": [
    "# drop duplicates\n",
    "data.drop_duplicates(inplace=True)\n",
    "data.duplicated().sum()"
   ]
  },
  {
   "cell_type": "markdown",
   "metadata": {
    "id": "yw2bFnYeydZ1"
   },
   "source": [
    "### **3.1 Descriptive Statistics**"
   ]
  },
  {
   "cell_type": "markdown",
   "metadata": {
    "id": "p7iRltFFy4Qq"
   },
   "source": [
    "Descriptive statistics are used to describe or summarize the characteristics of a sample or data set, such as a variable's mean, standard deviation, or median. "
   ]
  },
  {
   "cell_type": "code",
   "execution_count": 8,
   "metadata": {
    "colab": {
     "base_uri": "https://localhost:8080/",
     "height": 300
    },
    "id": "NxF5CcK6q6zi",
    "outputId": "6ea9caff-0563-422b-f278-f82ea4b20b23"
   },
   "outputs": [
    {
     "data": {
      "text/html": [
       "<div>\n",
       "<style scoped>\n",
       "    .dataframe tbody tr th:only-of-type {\n",
       "        vertical-align: middle;\n",
       "    }\n",
       "\n",
       "    .dataframe tbody tr th {\n",
       "        vertical-align: top;\n",
       "    }\n",
       "\n",
       "    .dataframe thead th {\n",
       "        text-align: right;\n",
       "    }\n",
       "</style>\n",
       "<table border=\"1\" class=\"dataframe\">\n",
       "  <thead>\n",
       "    <tr style=\"text-align: right;\">\n",
       "      <th></th>\n",
       "      <th>course_id</th>\n",
       "      <th>price</th>\n",
       "      <th>num_subscribers</th>\n",
       "      <th>num_reviews</th>\n",
       "      <th>num_lectures</th>\n",
       "      <th>content_duration</th>\n",
       "    </tr>\n",
       "  </thead>\n",
       "  <tbody>\n",
       "    <tr>\n",
       "      <th>count</th>\n",
       "      <td>3.672000e+03</td>\n",
       "      <td>3672.000000</td>\n",
       "      <td>3672.000000</td>\n",
       "      <td>3672.000000</td>\n",
       "      <td>3672.000000</td>\n",
       "      <td>3672.000000</td>\n",
       "    </tr>\n",
       "    <tr>\n",
       "      <th>mean</th>\n",
       "      <td>6.758977e+05</td>\n",
       "      <td>66.102941</td>\n",
       "      <td>3190.586874</td>\n",
       "      <td>156.371460</td>\n",
       "      <td>40.140251</td>\n",
       "      <td>4.097603</td>\n",
       "    </tr>\n",
       "    <tr>\n",
       "      <th>std</th>\n",
       "      <td>3.430720e+05</td>\n",
       "      <td>61.035920</td>\n",
       "      <td>9488.105448</td>\n",
       "      <td>936.178649</td>\n",
       "      <td>50.417102</td>\n",
       "      <td>6.057830</td>\n",
       "    </tr>\n",
       "    <tr>\n",
       "      <th>min</th>\n",
       "      <td>8.324000e+03</td>\n",
       "      <td>0.000000</td>\n",
       "      <td>0.000000</td>\n",
       "      <td>0.000000</td>\n",
       "      <td>0.000000</td>\n",
       "      <td>0.000000</td>\n",
       "    </tr>\n",
       "    <tr>\n",
       "      <th>25%</th>\n",
       "      <td>4.077615e+05</td>\n",
       "      <td>20.000000</td>\n",
       "      <td>111.750000</td>\n",
       "      <td>4.000000</td>\n",
       "      <td>15.000000</td>\n",
       "      <td>1.000000</td>\n",
       "    </tr>\n",
       "    <tr>\n",
       "      <th>50%</th>\n",
       "      <td>6.876920e+05</td>\n",
       "      <td>45.000000</td>\n",
       "      <td>912.000000</td>\n",
       "      <td>18.000000</td>\n",
       "      <td>25.000000</td>\n",
       "      <td>2.000000</td>\n",
       "    </tr>\n",
       "    <tr>\n",
       "      <th>75%</th>\n",
       "      <td>9.608140e+05</td>\n",
       "      <td>95.000000</td>\n",
       "      <td>2548.750000</td>\n",
       "      <td>67.000000</td>\n",
       "      <td>46.000000</td>\n",
       "      <td>4.500000</td>\n",
       "    </tr>\n",
       "    <tr>\n",
       "      <th>max</th>\n",
       "      <td>1.282064e+06</td>\n",
       "      <td>200.000000</td>\n",
       "      <td>268923.000000</td>\n",
       "      <td>27445.000000</td>\n",
       "      <td>779.000000</td>\n",
       "      <td>78.500000</td>\n",
       "    </tr>\n",
       "  </tbody>\n",
       "</table>\n",
       "</div>"
      ],
      "text/plain": [
       "          course_id        price  num_subscribers   num_reviews  num_lectures  \\\n",
       "count  3.672000e+03  3672.000000      3672.000000   3672.000000   3672.000000   \n",
       "mean   6.758977e+05    66.102941      3190.586874    156.371460     40.140251   \n",
       "std    3.430720e+05    61.035920      9488.105448    936.178649     50.417102   \n",
       "min    8.324000e+03     0.000000         0.000000      0.000000      0.000000   \n",
       "25%    4.077615e+05    20.000000       111.750000      4.000000     15.000000   \n",
       "50%    6.876920e+05    45.000000       912.000000     18.000000     25.000000   \n",
       "75%    9.608140e+05    95.000000      2548.750000     67.000000     46.000000   \n",
       "max    1.282064e+06   200.000000    268923.000000  27445.000000    779.000000   \n",
       "\n",
       "       content_duration  \n",
       "count       3672.000000  \n",
       "mean           4.097603  \n",
       "std            6.057830  \n",
       "min            0.000000  \n",
       "25%            1.000000  \n",
       "50%            2.000000  \n",
       "75%            4.500000  \n",
       "max           78.500000  "
      ]
     },
     "execution_count": 8,
     "metadata": {},
     "output_type": "execute_result"
    }
   ],
   "source": [
    "data.describe()"
   ]
  },
  {
   "cell_type": "markdown",
   "metadata": {
    "id": "pAXDP3_sy_9l"
   },
   "source": [
    "### Below conclusion can be done based on data summary:\n",
    "\n",
    "* The maximum price of course is 200 and minimum price is 0, It means some of courses are free.\n",
    "* Minimum content duration is 0 and maximum content duration is 78, It is suspicious.\n",
    "* Maximum number of subscribers are 268923 and minimum subscribers are 0.\n",
    "* Maximum Number of lectures are 779. It is suspicious as maximum duration is 78 hrs. "
   ]
  },
  {
   "cell_type": "code",
   "execution_count": 9,
   "metadata": {
    "colab": {
     "base_uri": "https://localhost:8080/",
     "height": 142
    },
    "id": "lniAhzrdWPNj",
    "outputId": "80c46d2e-cd66-43f5-a729-be193601fa98"
   },
   "outputs": [
    {
     "data": {
      "text/html": [
       "<div>\n",
       "<style scoped>\n",
       "    .dataframe tbody tr th:only-of-type {\n",
       "        vertical-align: middle;\n",
       "    }\n",
       "\n",
       "    .dataframe tbody tr th {\n",
       "        vertical-align: top;\n",
       "    }\n",
       "\n",
       "    .dataframe thead th {\n",
       "        text-align: right;\n",
       "    }\n",
       "</style>\n",
       "<table border=\"1\" class=\"dataframe\">\n",
       "  <thead>\n",
       "    <tr style=\"text-align: right;\">\n",
       "      <th></th>\n",
       "      <th>course_id</th>\n",
       "      <th>course_title</th>\n",
       "      <th>url</th>\n",
       "      <th>is_paid</th>\n",
       "      <th>price</th>\n",
       "      <th>num_subscribers</th>\n",
       "      <th>num_reviews</th>\n",
       "      <th>num_lectures</th>\n",
       "      <th>level</th>\n",
       "      <th>content_duration</th>\n",
       "      <th>published_timestamp</th>\n",
       "      <th>subject</th>\n",
       "    </tr>\n",
       "  </thead>\n",
       "  <tbody>\n",
       "    <tr>\n",
       "      <th>2707</th>\n",
       "      <td>79154</td>\n",
       "      <td>Back to School Web Development and Programming...</td>\n",
       "      <td>https://www.udemy.com/back-to-school-web-devel...</td>\n",
       "      <td>True</td>\n",
       "      <td>200</td>\n",
       "      <td>18170</td>\n",
       "      <td>117</td>\n",
       "      <td>779</td>\n",
       "      <td>Beginner Level</td>\n",
       "      <td>44.5</td>\n",
       "      <td>2013-08-19T14:53:00Z</td>\n",
       "      <td>Web Development</td>\n",
       "    </tr>\n",
       "  </tbody>\n",
       "</table>\n",
       "</div>"
      ],
      "text/plain": [
       "      course_id                                       course_title  \\\n",
       "2707      79154  Back to School Web Development and Programming...   \n",
       "\n",
       "                                                    url  is_paid  price  \\\n",
       "2707  https://www.udemy.com/back-to-school-web-devel...     True    200   \n",
       "\n",
       "      num_subscribers  num_reviews  num_lectures           level  \\\n",
       "2707            18170          117           779  Beginner Level   \n",
       "\n",
       "      content_duration   published_timestamp          subject  \n",
       "2707              44.5  2013-08-19T14:53:00Z  Web Development  "
      ]
     },
     "execution_count": 9,
     "metadata": {},
     "output_type": "execute_result"
    }
   ],
   "source": [
    "# content duration for maximum number of lecture course\n",
    "data[data['num_lectures']==779]"
   ]
  },
  {
   "cell_type": "markdown",
   "metadata": {
    "id": "-leSB3hsWqhZ"
   },
   "source": [
    "* Course which have maximum number of lectures do not have maximum content duration "
   ]
  },
  {
   "cell_type": "markdown",
   "metadata": {
    "id": "QIMUMciCzTHC"
   },
   "source": [
    "### **3.2 Missing value imputation**"
   ]
  },
  {
   "cell_type": "code",
   "execution_count": 10,
   "metadata": {
    "colab": {
     "base_uri": "https://localhost:8080/"
    },
    "id": "Vn2icOSPq64s",
    "outputId": "e09d986c-8701-4293-c1af-9ee11277dbee"
   },
   "outputs": [
    {
     "data": {
      "text/plain": [
       "course_id              0\n",
       "course_title           0\n",
       "url                    0\n",
       "is_paid                0\n",
       "price                  0\n",
       "num_subscribers        0\n",
       "num_reviews            0\n",
       "num_lectures           0\n",
       "level                  0\n",
       "content_duration       0\n",
       "published_timestamp    0\n",
       "subject                0\n",
       "dtype: int64"
      ]
     },
     "execution_count": 10,
     "metadata": {},
     "output_type": "execute_result"
    }
   ],
   "source": [
    "data.isnull().sum()"
   ]
  },
  {
   "cell_type": "markdown",
   "metadata": {
    "id": "sKaIb9w2zkny"
   },
   "source": [
    "* There are no missing values in the data.\n",
    "#### If missing values are present in the data:\n",
    "* Outlier treatment should be done before missing value imputation; else, outliers can influence the missing value imputation."
   ]
  },
  {
   "cell_type": "markdown",
   "metadata": {
    "id": "OK2I5X7szrkT"
   },
   "source": [
    "### **3.3 Univariate Analysis**"
   ]
  },
  {
   "cell_type": "markdown",
   "metadata": {
    "id": "rFN1z489zwHG"
   },
   "source": [
    "Univariate, in which we analyze date of just one variable. A variable in our dataset refers to a single feature/column.\n",
    "\n",
    "We can do this either with graphical means or non-graphical means by finding certain mathematical values in the data.\n"
   ]
  },
  {
   "cell_type": "markdown",
   "metadata": {
    "id": "0-dVTJ0Y4hYc"
   },
   "source": [
    "### **1) What are all different subjects for which Udemy is offering courses?**"
   ]
  },
  {
   "cell_type": "code",
   "execution_count": 37,
   "metadata": {
    "colab": {
     "base_uri": "https://localhost:8080/"
    },
    "id": "7dQTpY8g4_eD",
    "outputId": "eb7f2add-d3cb-44f1-eb08-bf79266638e8"
   },
   "outputs": [
    {
     "data": {
      "text/plain": [
       "array(['Business Finance', 'Graphic Design', 'Musical Instruments',\n",
       "       'Web Development'], dtype=object)"
      ]
     },
     "execution_count": 37,
     "metadata": {},
     "output_type": "execute_result"
    }
   ],
   "source": [
    "data.subject.unique()"
   ]
  },
  {
   "cell_type": "markdown",
   "metadata": {
    "id": "-CEfs6dEBlAm"
   },
   "source": [
    "### **2) Which subject has the maximum number of courses?**"
   ]
  },
  {
   "cell_type": "code",
   "execution_count": 38,
   "metadata": {
    "colab": {
     "base_uri": "https://localhost:8080/"
    },
    "id": "R2ir3l9oCNOm",
    "outputId": "7599b00a-3d91-42b4-947e-65a0b0b3884a"
   },
   "outputs": [
    {
     "data": {
      "text/plain": [
       "Web Development        1199\n",
       "Business Finance       1191\n",
       "Musical Instruments     680\n",
       "Graphic Design          602\n",
       "Name: subject, dtype: int64"
      ]
     },
     "execution_count": 38,
     "metadata": {},
     "output_type": "execute_result"
    }
   ],
   "source": [
    "data.subject.value_counts()"
   ]
  },
  {
   "cell_type": "code",
   "execution_count": 39,
   "metadata": {
    "colab": {
     "base_uri": "https://localhost:8080/",
     "height": 407
    },
    "id": "DC8LyzOgq666",
    "outputId": "53810be7-6d52-402b-ca4c-76f56d2d2234"
   },
   "outputs": [
    {
     "data": {
      "text/plain": [
       "<AxesSubplot:title={'center':'Subjects in courses'}>"
      ]
     },
     "execution_count": 39,
     "metadata": {},
     "output_type": "execute_result"
    },
    {
     "data": {
      "image/png": "[encoded data removed]",
      "text/plain": [
       "<Figure size 1152x648 with 1 Axes>"
      ]
     },
     "metadata": {},
     "output_type": "display_data"
    }
   ],
   "source": [
    "# Bar plot\n",
    "plt.subplot(221)\n",
    "data['subject'].value_counts().plot(kind='bar', title='Subjects in courses',figsize=(16,9))"
   ]
  },
  {
   "cell_type": "markdown",
   "metadata": {
    "id": "SBP5Z-vl3xZL"
   },
   "source": [
    "Udemy provide maximum courses related to Web development (1200) and Minimum courses related to Graphic Design (603).\n",
    "\n",
    "It means web development subject is more demanding in market.\n",
    "\n",
    "\n"
   ]
  },
  {
   "cell_type": "markdown",
   "metadata": {
    "id": "B4J8f2qQ4fv_"
   },
   "source": [
    "### **3) What type of level courses Udemy provided to student?**"
   ]
  },
  {
   "cell_type": "code",
   "execution_count": 40,
   "metadata": {
    "colab": {
     "base_uri": "https://localhost:8080/"
    },
    "id": "H8KIV0Pb4ucc",
    "outputId": "80656994-7bc3-4e73-8386-8fe99bfbbd40"
   },
   "outputs": [
    {
     "data": {
      "text/plain": [
       "array(['All Levels', 'Intermediate Level', 'Beginner Level',\n",
       "       'Expert Level'], dtype=object)"
      ]
     },
     "execution_count": 40,
     "metadata": {},
     "output_type": "execute_result"
    }
   ],
   "source": [
    "data.level.unique()"
   ]
  },
  {
   "cell_type": "code",
   "execution_count": 41,
   "metadata": {
    "colab": {
     "base_uri": "https://localhost:8080/",
     "height": 248
    },
    "id": "u7DMf9vw5GtS",
    "outputId": "b8592b53-135e-4d4f-885a-2131bca2dc37"
   },
   "outputs": [
    {
     "data": {
      "image/png": "[encoded data removed]",
      "text/plain": [
       "<Figure size 432x288 with 1 Axes>"
      ]
     },
     "metadata": {},
     "output_type": "display_data"
    }
   ],
   "source": [
    "# Pie plot\n",
    "plt.pie(data['level'].value_counts(), labels=data['level'].unique(), autopct='%1.2f%%')\n",
    "plt.show()\n"
   ]
  },
  {
   "cell_type": "markdown",
   "metadata": {
    "id": "tqPRF41LaQyK"
   },
   "source": [
    "By analyzing the figure above, we can see that Udemy provide maximum 52.45% \"All level\" of courses to student. \n",
    "\n",
    "Beginner level of courses are 11.45% which are minimum."
   ]
  },
  {
   "cell_type": "markdown",
   "metadata": {
    "id": "dBsmFz8QEPlu"
   },
   "source": [
    "### **4) Show all the courses which are Free of Cost.**"
   ]
  },
  {
   "cell_type": "code",
   "execution_count": 42,
   "metadata": {
    "colab": {
     "base_uri": "https://localhost:8080/",
     "height": 354
    },
    "id": "QagaRDRW3usk",
    "outputId": "15d91474-5d08-4dce-8241-d0ed77104814"
   },
   "outputs": [
    {
     "name": "stdout",
     "output_type": "stream",
     "text": [
      "Number of free courses:  310\n"
     ]
    },
    {
     "data": {
      "text/html": [
       "<div>\n",
       "<style scoped>\n",
       "    .dataframe tbody tr th:only-of-type {\n",
       "        vertical-align: middle;\n",
       "    }\n",
       "\n",
       "    .dataframe tbody tr th {\n",
       "        vertical-align: top;\n",
       "    }\n",
       "\n",
       "    .dataframe thead th {\n",
       "        text-align: right;\n",
       "    }\n",
       "</style>\n",
       "<table border=\"1\" class=\"dataframe\">\n",
       "  <thead>\n",
       "    <tr style=\"text-align: right;\">\n",
       "      <th></th>\n",
       "      <th>course_id</th>\n",
       "      <th>course_title</th>\n",
       "      <th>url</th>\n",
       "      <th>is_paid</th>\n",
       "      <th>price</th>\n",
       "      <th>num_subscribers</th>\n",
       "      <th>num_reviews</th>\n",
       "      <th>num_lectures</th>\n",
       "      <th>level</th>\n",
       "      <th>content_duration</th>\n",
       "      <th>published_timestamp</th>\n",
       "      <th>subject</th>\n",
       "      <th>year</th>\n",
       "    </tr>\n",
       "  </thead>\n",
       "  <tbody>\n",
       "    <tr>\n",
       "      <th>95</th>\n",
       "      <td>1148774</td>\n",
       "      <td>Options Trading 101: The Basics</td>\n",
       "      <td>https://www.udemy.com/options-trading-101-the-...</td>\n",
       "      <td>False</td>\n",
       "      <td>0</td>\n",
       "      <td>1514</td>\n",
       "      <td>66</td>\n",
       "      <td>11</td>\n",
       "      <td>Beginner Level</td>\n",
       "      <td>0.55</td>\n",
       "      <td>2017-03-23 22:19:57+00:00</td>\n",
       "      <td>Business Finance</td>\n",
       "      <td>2017</td>\n",
       "    </tr>\n",
       "    <tr>\n",
       "      <th>103</th>\n",
       "      <td>133536</td>\n",
       "      <td>Stock Market Investing for Beginners</td>\n",
       "      <td>https://www.udemy.com/the-beginners-guide-to-t...</td>\n",
       "      <td>False</td>\n",
       "      <td>0</td>\n",
       "      <td>50855</td>\n",
       "      <td>2698</td>\n",
       "      <td>15</td>\n",
       "      <td>Beginner Level</td>\n",
       "      <td>1.50</td>\n",
       "      <td>2013-12-25 19:53:34+00:00</td>\n",
       "      <td>Business Finance</td>\n",
       "      <td>2013</td>\n",
       "    </tr>\n",
       "    <tr>\n",
       "      <th>106</th>\n",
       "      <td>265960</td>\n",
       "      <td>Fundamentals of Forex Trading</td>\n",
       "      <td>https://www.udemy.com/fundamentals-of-forex-tr...</td>\n",
       "      <td>False</td>\n",
       "      <td>0</td>\n",
       "      <td>17160</td>\n",
       "      <td>620</td>\n",
       "      <td>23</td>\n",
       "      <td>All Levels</td>\n",
       "      <td>1.00</td>\n",
       "      <td>2014-08-29 20:10:38+00:00</td>\n",
       "      <td>Business Finance</td>\n",
       "      <td>2014</td>\n",
       "    </tr>\n",
       "    <tr>\n",
       "      <th>108</th>\n",
       "      <td>923616</td>\n",
       "      <td>Website Investing 101 - Buying &amp; Selling Onlin...</td>\n",
       "      <td>https://www.udemy.com/cash-flow-website-invest...</td>\n",
       "      <td>False</td>\n",
       "      <td>0</td>\n",
       "      <td>6811</td>\n",
       "      <td>151</td>\n",
       "      <td>51</td>\n",
       "      <td>All Levels</td>\n",
       "      <td>2.00</td>\n",
       "      <td>2016-08-05 17:03:15+00:00</td>\n",
       "      <td>Business Finance</td>\n",
       "      <td>2016</td>\n",
       "    </tr>\n",
       "    <tr>\n",
       "      <th>112</th>\n",
       "      <td>191854</td>\n",
       "      <td>Stock Market Foundations</td>\n",
       "      <td>https://www.udemy.com/how-to-invest-in-the-sto...</td>\n",
       "      <td>False</td>\n",
       "      <td>0</td>\n",
       "      <td>19339</td>\n",
       "      <td>794</td>\n",
       "      <td>9</td>\n",
       "      <td>Beginner Level</td>\n",
       "      <td>2.00</td>\n",
       "      <td>2014-03-31 21:35:06+00:00</td>\n",
       "      <td>Business Finance</td>\n",
       "      <td>2014</td>\n",
       "    </tr>\n",
       "  </tbody>\n",
       "</table>\n",
       "</div>"
      ],
      "text/plain": [
       "     course_id                                       course_title  \\\n",
       "95     1148774                    Options Trading 101: The Basics   \n",
       "103     133536               Stock Market Investing for Beginners   \n",
       "106     265960                      Fundamentals of Forex Trading   \n",
       "108     923616  Website Investing 101 - Buying & Selling Onlin...   \n",
       "112     191854                           Stock Market Foundations   \n",
       "\n",
       "                                                   url  is_paid  price  \\\n",
       "95   https://www.udemy.com/options-trading-101-the-...    False      0   \n",
       "103  https://www.udemy.com/the-beginners-guide-to-t...    False      0   \n",
       "106  https://www.udemy.com/fundamentals-of-forex-tr...    False      0   \n",
       "108  https://www.udemy.com/cash-flow-website-invest...    False      0   \n",
       "112  https://www.udemy.com/how-to-invest-in-the-sto...    False      0   \n",
       "\n",
       "     num_subscribers  num_reviews  num_lectures           level  \\\n",
       "95              1514           66            11  Beginner Level   \n",
       "103            50855         2698            15  Beginner Level   \n",
       "106            17160          620            23      All Levels   \n",
       "108             6811          151            51      All Levels   \n",
       "112            19339          794             9  Beginner Level   \n",
       "\n",
       "     content_duration       published_timestamp           subject  year  \n",
       "95               0.55 2017-03-23 22:19:57+00:00  Business Finance  2017  \n",
       "103              1.50 2013-12-25 19:53:34+00:00  Business Finance  2013  \n",
       "106              1.00 2014-08-29 20:10:38+00:00  Business Finance  2014  \n",
       "108              2.00 2016-08-05 17:03:15+00:00  Business Finance  2016  \n",
       "112              2.00 2014-03-31 21:35:06+00:00  Business Finance  2014  "
      ]
     },
     "execution_count": 42,
     "metadata": {},
     "output_type": "execute_result"
    }
   ],
   "source": [
    "data0=data[data.is_paid==False]\n",
    "print(\"Number of free courses: \", data0.shape[0])\n",
    "data0.head()"
   ]
  },
  {
   "cell_type": "markdown",
   "metadata": {
    "id": "ez5im42-F575"
   },
   "source": [
    "### **5) Show all the courses which are Paid.**"
   ]
  },
  {
   "cell_type": "code",
   "execution_count": 43,
   "metadata": {
    "colab": {
     "base_uri": "https://localhost:8080/",
     "height": 354
    },
    "id": "A0WDFQoE3uwO",
    "outputId": "3067c2d4-fce0-4505-b571-917464b8bb61"
   },
   "outputs": [
    {
     "name": "stdout",
     "output_type": "stream",
     "text": [
      "Number of paid courses:  3362\n"
     ]
    },
    {
     "data": {
      "text/html": [
       "<div>\n",
       "<style scoped>\n",
       "    .dataframe tbody tr th:only-of-type {\n",
       "        vertical-align: middle;\n",
       "    }\n",
       "\n",
       "    .dataframe tbody tr th {\n",
       "        vertical-align: top;\n",
       "    }\n",
       "\n",
       "    .dataframe thead th {\n",
       "        text-align: right;\n",
       "    }\n",
       "</style>\n",
       "<table border=\"1\" class=\"dataframe\">\n",
       "  <thead>\n",
       "    <tr style=\"text-align: right;\">\n",
       "      <th></th>\n",
       "      <th>course_id</th>\n",
       "      <th>course_title</th>\n",
       "      <th>url</th>\n",
       "      <th>is_paid</th>\n",
       "      <th>price</th>\n",
       "      <th>num_subscribers</th>\n",
       "      <th>num_reviews</th>\n",
       "      <th>num_lectures</th>\n",
       "      <th>level</th>\n",
       "      <th>content_duration</th>\n",
       "      <th>published_timestamp</th>\n",
       "      <th>subject</th>\n",
       "      <th>year</th>\n",
       "    </tr>\n",
       "  </thead>\n",
       "  <tbody>\n",
       "    <tr>\n",
       "      <th>0</th>\n",
       "      <td>1070968</td>\n",
       "      <td>Ultimate Investment Banking Course</td>\n",
       "      <td>https://www.udemy.com/ultimate-investment-bank...</td>\n",
       "      <td>True</td>\n",
       "      <td>200</td>\n",
       "      <td>2147</td>\n",
       "      <td>23</td>\n",
       "      <td>51</td>\n",
       "      <td>All Levels</td>\n",
       "      <td>1.5</td>\n",
       "      <td>2017-01-18 20:58:58+00:00</td>\n",
       "      <td>Business Finance</td>\n",
       "      <td>2017</td>\n",
       "    </tr>\n",
       "    <tr>\n",
       "      <th>1</th>\n",
       "      <td>1113822</td>\n",
       "      <td>Complete GST Course &amp; Certification - Grow You...</td>\n",
       "      <td>https://www.udemy.com/goods-and-services-tax/</td>\n",
       "      <td>True</td>\n",
       "      <td>75</td>\n",
       "      <td>2792</td>\n",
       "      <td>923</td>\n",
       "      <td>274</td>\n",
       "      <td>All Levels</td>\n",
       "      <td>39.0</td>\n",
       "      <td>2017-03-09 16:34:20+00:00</td>\n",
       "      <td>Business Finance</td>\n",
       "      <td>2017</td>\n",
       "    </tr>\n",
       "    <tr>\n",
       "      <th>2</th>\n",
       "      <td>1006314</td>\n",
       "      <td>Financial Modeling for Business Analysts and C...</td>\n",
       "      <td>https://www.udemy.com/financial-modeling-for-b...</td>\n",
       "      <td>True</td>\n",
       "      <td>45</td>\n",
       "      <td>2174</td>\n",
       "      <td>74</td>\n",
       "      <td>51</td>\n",
       "      <td>Intermediate Level</td>\n",
       "      <td>2.5</td>\n",
       "      <td>2016-12-19 19:26:30+00:00</td>\n",
       "      <td>Business Finance</td>\n",
       "      <td>2016</td>\n",
       "    </tr>\n",
       "    <tr>\n",
       "      <th>3</th>\n",
       "      <td>1210588</td>\n",
       "      <td>Beginner to Pro - Financial Analysis in Excel ...</td>\n",
       "      <td>https://www.udemy.com/complete-excel-finance-c...</td>\n",
       "      <td>True</td>\n",
       "      <td>95</td>\n",
       "      <td>2451</td>\n",
       "      <td>11</td>\n",
       "      <td>36</td>\n",
       "      <td>All Levels</td>\n",
       "      <td>3.0</td>\n",
       "      <td>2017-05-30 20:07:24+00:00</td>\n",
       "      <td>Business Finance</td>\n",
       "      <td>2017</td>\n",
       "    </tr>\n",
       "    <tr>\n",
       "      <th>4</th>\n",
       "      <td>1011058</td>\n",
       "      <td>How To Maximize Your Profits Trading Options</td>\n",
       "      <td>https://www.udemy.com/how-to-maximize-your-pro...</td>\n",
       "      <td>True</td>\n",
       "      <td>200</td>\n",
       "      <td>1276</td>\n",
       "      <td>45</td>\n",
       "      <td>26</td>\n",
       "      <td>Intermediate Level</td>\n",
       "      <td>2.0</td>\n",
       "      <td>2016-12-13 14:57:18+00:00</td>\n",
       "      <td>Business Finance</td>\n",
       "      <td>2016</td>\n",
       "    </tr>\n",
       "  </tbody>\n",
       "</table>\n",
       "</div>"
      ],
      "text/plain": [
       "   course_id                                       course_title  \\\n",
       "0    1070968                 Ultimate Investment Banking Course   \n",
       "1    1113822  Complete GST Course & Certification - Grow You...   \n",
       "2    1006314  Financial Modeling for Business Analysts and C...   \n",
       "3    1210588  Beginner to Pro - Financial Analysis in Excel ...   \n",
       "4    1011058       How To Maximize Your Profits Trading Options   \n",
       "\n",
       "                                                 url  is_paid  price  \\\n",
       "0  https://www.udemy.com/ultimate-investment-bank...     True    200   \n",
       "1      https://www.udemy.com/goods-and-services-tax/     True     75   \n",
       "2  https://www.udemy.com/financial-modeling-for-b...     True     45   \n",
       "3  https://www.udemy.com/complete-excel-finance-c...     True     95   \n",
       "4  https://www.udemy.com/how-to-maximize-your-pro...     True    200   \n",
       "\n",
       "   num_subscribers  num_reviews  num_lectures               level  \\\n",
       "0             2147           23            51          All Levels   \n",
       "1             2792          923           274          All Levels   \n",
       "2             2174           74            51  Intermediate Level   \n",
       "3             2451           11            36          All Levels   \n",
       "4             1276           45            26  Intermediate Level   \n",
       "\n",
       "   content_duration       published_timestamp           subject  year  \n",
       "0               1.5 2017-01-18 20:58:58+00:00  Business Finance  2017  \n",
       "1              39.0 2017-03-09 16:34:20+00:00  Business Finance  2017  \n",
       "2               2.5 2016-12-19 19:26:30+00:00  Business Finance  2016  \n",
       "3               3.0 2017-05-30 20:07:24+00:00  Business Finance  2017  \n",
       "4               2.0 2016-12-13 14:57:18+00:00  Business Finance  2016  "
      ]
     },
     "execution_count": 43,
     "metadata": {},
     "output_type": "execute_result"
    }
   ],
   "source": [
    "data1=data[data.is_paid==True]\n",
    "print(\"Number of paid courses: \",data1.shape[0])\n",
    "data1.head()"
   ]
  },
  {
   "cell_type": "code",
   "execution_count": 44,
   "metadata": {
    "colab": {
     "base_uri": "https://localhost:8080/",
     "height": 324
    },
    "id": "nOu6A3KT3uz6",
    "outputId": "f0c5535b-fdbe-4433-93ba-bb46eacba47e"
   },
   "outputs": [
    {
     "data": {
      "text/plain": [
       "<AxesSubplot:title={'center':'Paid or Unpaid Courses'}>"
      ]
     },
     "execution_count": 44,
     "metadata": {},
     "output_type": "execute_result"
    },
    {
     "data": {
      "image/png": "[encoded data removed]",
      "text/plain": [
       "<Figure size 1152x648 with 1 Axes>"
      ]
     },
     "metadata": {},
     "output_type": "display_data"
    }
   ],
   "source": [
    "plt.subplot(221)\n",
    "data['is_paid'].value_counts().plot(kind='bar', title='Paid or Unpaid Courses',figsize=(16,9))"
   ]
  },
  {
   "cell_type": "markdown",
   "metadata": {
    "id": "AaWBUbPbHOu3"
   },
   "source": [
    "In this dataset paid courses are 3368 and free courses 310.\n",
    "It means Udemy provide maximum courses to student are paid.\n",
    "\n",
    "\n"
   ]
  },
  {
   "cell_type": "markdown",
   "metadata": {
    "id": "1bopCwNCSijA"
   },
   "source": [
    "### **6) List out all the courses that are related to 'SQL'.**"
   ]
  },
  {
   "cell_type": "code",
   "execution_count": 45,
   "metadata": {
    "colab": {
     "base_uri": "https://localhost:8080/",
     "height": 354
    },
    "id": "jM8PTSu2KVW2",
    "outputId": "291cac83-65aa-4513-c5ca-4222c3391142"
   },
   "outputs": [
    {
     "name": "stdout",
     "output_type": "stream",
     "text": [
      "Number of courses related to SQL :  24\n"
     ]
    },
    {
     "data": {
      "text/html": [
       "<div>\n",
       "<style scoped>\n",
       "    .dataframe tbody tr th:only-of-type {\n",
       "        vertical-align: middle;\n",
       "    }\n",
       "\n",
       "    .dataframe tbody tr th {\n",
       "        vertical-align: top;\n",
       "    }\n",
       "\n",
       "    .dataframe thead th {\n",
       "        text-align: right;\n",
       "    }\n",
       "</style>\n",
       "<table border=\"1\" class=\"dataframe\">\n",
       "  <thead>\n",
       "    <tr style=\"text-align: right;\">\n",
       "      <th></th>\n",
       "      <th>course_id</th>\n",
       "      <th>course_title</th>\n",
       "      <th>url</th>\n",
       "      <th>is_paid</th>\n",
       "      <th>price</th>\n",
       "      <th>num_subscribers</th>\n",
       "      <th>num_reviews</th>\n",
       "      <th>num_lectures</th>\n",
       "      <th>level</th>\n",
       "      <th>content_duration</th>\n",
       "      <th>published_timestamp</th>\n",
       "      <th>subject</th>\n",
       "      <th>year</th>\n",
       "    </tr>\n",
       "  </thead>\n",
       "  <tbody>\n",
       "    <tr>\n",
       "      <th>2479</th>\n",
       "      <td>19603</td>\n",
       "      <td>Learning Dynamic Website Design - PHP MySQL an...</td>\n",
       "      <td>https://www.udemy.com/learning-dynamic-website...</td>\n",
       "      <td>True</td>\n",
       "      <td>50</td>\n",
       "      <td>47886</td>\n",
       "      <td>285</td>\n",
       "      <td>125</td>\n",
       "      <td>All Levels</td>\n",
       "      <td>12.5</td>\n",
       "      <td>2012-06-18 16:52:34+00:00</td>\n",
       "      <td>Web Development</td>\n",
       "      <td>2012</td>\n",
       "    </tr>\n",
       "    <tr>\n",
       "      <th>2558</th>\n",
       "      <td>1070976</td>\n",
       "      <td>Complete E-Commerce Course - Java,Spring,Hiber...</td>\n",
       "      <td>https://www.udemy.com/complete-e-commerce-cour...</td>\n",
       "      <td>True</td>\n",
       "      <td>195</td>\n",
       "      <td>1371</td>\n",
       "      <td>165</td>\n",
       "      <td>83</td>\n",
       "      <td>All Levels</td>\n",
       "      <td>20.0</td>\n",
       "      <td>2017-01-16 23:50:02+00:00</td>\n",
       "      <td>Web Development</td>\n",
       "      <td>2017</td>\n",
       "    </tr>\n",
       "    <tr>\n",
       "      <th>2582</th>\n",
       "      <td>98066</td>\n",
       "      <td>Complete Website &amp; CMS in PHP &amp; MySQL From Scr...</td>\n",
       "      <td>https://www.udemy.com/cms-admin-panel-in-php-m...</td>\n",
       "      <td>True</td>\n",
       "      <td>20</td>\n",
       "      <td>3357</td>\n",
       "      <td>82</td>\n",
       "      <td>48</td>\n",
       "      <td>All Levels</td>\n",
       "      <td>12.5</td>\n",
       "      <td>2014-04-18 09:51:00+00:00</td>\n",
       "      <td>Web Development</td>\n",
       "      <td>2014</td>\n",
       "    </tr>\n",
       "    <tr>\n",
       "      <th>2611</th>\n",
       "      <td>1171966</td>\n",
       "      <td>The Complete PHP MySQL Professional Course wit...</td>\n",
       "      <td>https://www.udemy.com/the-complete-php-mysql-p...</td>\n",
       "      <td>True</td>\n",
       "      <td>200</td>\n",
       "      <td>16158</td>\n",
       "      <td>159</td>\n",
       "      <td>125</td>\n",
       "      <td>All Levels</td>\n",
       "      <td>19.5</td>\n",
       "      <td>2017-06-07 05:58:36+00:00</td>\n",
       "      <td>Web Development</td>\n",
       "      <td>2017</td>\n",
       "    </tr>\n",
       "    <tr>\n",
       "      <th>2622</th>\n",
       "      <td>992114</td>\n",
       "      <td>Build A Complete CRUD Application With PHP, MY...</td>\n",
       "      <td>https://www.udemy.com/build-a-complete-crud-ap...</td>\n",
       "      <td>True</td>\n",
       "      <td>20</td>\n",
       "      <td>9762</td>\n",
       "      <td>94</td>\n",
       "      <td>112</td>\n",
       "      <td>All Levels</td>\n",
       "      <td>13.5</td>\n",
       "      <td>2016-11-01 15:30:36+00:00</td>\n",
       "      <td>Web Development</td>\n",
       "      <td>2016</td>\n",
       "    </tr>\n",
       "    <tr>\n",
       "      <th>2635</th>\n",
       "      <td>266252</td>\n",
       "      <td>Projects in PHP and MySQL</td>\n",
       "      <td>https://www.udemy.com/the-complete-web-develop...</td>\n",
       "      <td>True</td>\n",
       "      <td>60</td>\n",
       "      <td>10606</td>\n",
       "      <td>570</td>\n",
       "      <td>88</td>\n",
       "      <td>All Levels</td>\n",
       "      <td>23.0</td>\n",
       "      <td>2014-07-25 11:11:41+00:00</td>\n",
       "      <td>Web Development</td>\n",
       "      <td>2014</td>\n",
       "    </tr>\n",
       "    <tr>\n",
       "      <th>2639</th>\n",
       "      <td>1155262</td>\n",
       "      <td>Angular 2 Complete E-Commerce App Course - Jav...</td>\n",
       "      <td>https://www.udemy.com/build-angular-2-complete...</td>\n",
       "      <td>True</td>\n",
       "      <td>195</td>\n",
       "      <td>949</td>\n",
       "      <td>129</td>\n",
       "      <td>89</td>\n",
       "      <td>All Levels</td>\n",
       "      <td>20.5</td>\n",
       "      <td>2017-03-27 16:46:54+00:00</td>\n",
       "      <td>Web Development</td>\n",
       "      <td>2017</td>\n",
       "    </tr>\n",
       "    <tr>\n",
       "      <th>2649</th>\n",
       "      <td>267560</td>\n",
       "      <td>Learn E-Commerce Website in PHP &amp; MySQL From S...</td>\n",
       "      <td>https://www.udemy.com/ecommerce-website-in-php...</td>\n",
       "      <td>False</td>\n",
       "      <td>0</td>\n",
       "      <td>29990</td>\n",
       "      <td>1342</td>\n",
       "      <td>87</td>\n",
       "      <td>All Levels</td>\n",
       "      <td>17.5</td>\n",
       "      <td>2014-08-10 10:27:28+00:00</td>\n",
       "      <td>Web Development</td>\n",
       "      <td>2014</td>\n",
       "    </tr>\n",
       "    <tr>\n",
       "      <th>2679</th>\n",
       "      <td>304490</td>\n",
       "      <td>A 13 Hour SQL Server 2014 /ASP.NET/CSS/C#/jQue...</td>\n",
       "      <td>https://www.udemy.com/learnsqlwithsqlserver2014/</td>\n",
       "      <td>True</td>\n",
       "      <td>35</td>\n",
       "      <td>4183</td>\n",
       "      <td>231</td>\n",
       "      <td>86</td>\n",
       "      <td>Intermediate Level</td>\n",
       "      <td>14.0</td>\n",
       "      <td>2014-10-12 06:29:05+00:00</td>\n",
       "      <td>Web Development</td>\n",
       "      <td>2014</td>\n",
       "    </tr>\n",
       "    <tr>\n",
       "      <th>2748</th>\n",
       "      <td>978728</td>\n",
       "      <td>Thoughtful Web Development Course: HTML, Vue.j...</td>\n",
       "      <td>https://www.udemy.com/web-development-html5-cs...</td>\n",
       "      <td>True</td>\n",
       "      <td>200</td>\n",
       "      <td>842</td>\n",
       "      <td>144</td>\n",
       "      <td>536</td>\n",
       "      <td>All Levels</td>\n",
       "      <td>25.0</td>\n",
       "      <td>2016-10-11 14:18:27+00:00</td>\n",
       "      <td>Web Development</td>\n",
       "      <td>2016</td>\n",
       "    </tr>\n",
       "    <tr>\n",
       "      <th>2750</th>\n",
       "      <td>32649</td>\n",
       "      <td>PHP &amp; MySQL - Learn The Easy Way. Master PHP &amp;...</td>\n",
       "      <td>https://www.udemy.com/learning-php-and-mysql-d...</td>\n",
       "      <td>True</td>\n",
       "      <td>50</td>\n",
       "      <td>5549</td>\n",
       "      <td>92</td>\n",
       "      <td>143</td>\n",
       "      <td>All Levels</td>\n",
       "      <td>15.5</td>\n",
       "      <td>2012-12-15 15:22:52+00:00</td>\n",
       "      <td>Web Development</td>\n",
       "      <td>2012</td>\n",
       "    </tr>\n",
       "    <tr>\n",
       "      <th>2958</th>\n",
       "      <td>739770</td>\n",
       "      <td>PHP MySQL: Learn PHP MySQL with Project</td>\n",
       "      <td>https://www.udemy.com/php-mysql-project-learning/</td>\n",
       "      <td>True</td>\n",
       "      <td>20</td>\n",
       "      <td>2314</td>\n",
       "      <td>77</td>\n",
       "      <td>25</td>\n",
       "      <td>All Levels</td>\n",
       "      <td>2.0</td>\n",
       "      <td>2016-04-21 02:06:22+00:00</td>\n",
       "      <td>Web Development</td>\n",
       "      <td>2016</td>\n",
       "    </tr>\n",
       "    <tr>\n",
       "      <th>3094</th>\n",
       "      <td>418386</td>\n",
       "      <td>Create a REAL Social Network like Facebook in ...</td>\n",
       "      <td>https://www.udemy.com/make-a-social-media-webs...</td>\n",
       "      <td>True</td>\n",
       "      <td>45</td>\n",
       "      <td>1002</td>\n",
       "      <td>178</td>\n",
       "      <td>174</td>\n",
       "      <td>All Levels</td>\n",
       "      <td>16.5</td>\n",
       "      <td>2016-09-19 15:54:37+00:00</td>\n",
       "      <td>Web Development</td>\n",
       "      <td>2016</td>\n",
       "    </tr>\n",
       "    <tr>\n",
       "      <th>3278</th>\n",
       "      <td>425084</td>\n",
       "      <td>Administering Microsoft SQL Server 2012 Databa...</td>\n",
       "      <td>https://www.udemy.com/administering-microsoft-...</td>\n",
       "      <td>True</td>\n",
       "      <td>60</td>\n",
       "      <td>586</td>\n",
       "      <td>65</td>\n",
       "      <td>98</td>\n",
       "      <td>All Levels</td>\n",
       "      <td>5.5</td>\n",
       "      <td>2015-03-23 00:20:29+00:00</td>\n",
       "      <td>Web Development</td>\n",
       "      <td>2015</td>\n",
       "    </tr>\n",
       "    <tr>\n",
       "      <th>3282</th>\n",
       "      <td>519952</td>\n",
       "      <td>PHP: Complete Login and Registration System wi...</td>\n",
       "      <td>https://www.udemy.com/user-authentication-code...</td>\n",
       "      <td>True</td>\n",
       "      <td>200</td>\n",
       "      <td>1448</td>\n",
       "      <td>173</td>\n",
       "      <td>48</td>\n",
       "      <td>All Levels</td>\n",
       "      <td>7.5</td>\n",
       "      <td>2015-06-16 20:38:45+00:00</td>\n",
       "      <td>Web Development</td>\n",
       "      <td>2015</td>\n",
       "    </tr>\n",
       "    <tr>\n",
       "      <th>3350</th>\n",
       "      <td>425086</td>\n",
       "      <td>Implementing a Data Warehouse with SQL Server ...</td>\n",
       "      <td>https://www.udemy.com/implementing-a-data-ware...</td>\n",
       "      <td>True</td>\n",
       "      <td>85</td>\n",
       "      <td>1142</td>\n",
       "      <td>148</td>\n",
       "      <td>90</td>\n",
       "      <td>All Levels</td>\n",
       "      <td>5.0</td>\n",
       "      <td>2015-05-01 23:08:38+00:00</td>\n",
       "      <td>Web Development</td>\n",
       "      <td>2015</td>\n",
       "    </tr>\n",
       "    <tr>\n",
       "      <th>3409</th>\n",
       "      <td>552198</td>\n",
       "      <td>Complete Login and Registration System in PHP ...</td>\n",
       "      <td>https://www.udemy.com/login-and-registration-s...</td>\n",
       "      <td>True</td>\n",
       "      <td>200</td>\n",
       "      <td>4714</td>\n",
       "      <td>149</td>\n",
       "      <td>28</td>\n",
       "      <td>All Levels</td>\n",
       "      <td>4.0</td>\n",
       "      <td>2015-07-16 22:09:55+00:00</td>\n",
       "      <td>Web Development</td>\n",
       "      <td>2015</td>\n",
       "    </tr>\n",
       "    <tr>\n",
       "      <th>3437</th>\n",
       "      <td>890810</td>\n",
       "      <td>Practical Understanding of PHP and MySQL</td>\n",
       "      <td>https://www.udemy.com/practical-understanding-...</td>\n",
       "      <td>False</td>\n",
       "      <td>0</td>\n",
       "      <td>12201</td>\n",
       "      <td>217</td>\n",
       "      <td>24</td>\n",
       "      <td>Beginner Level</td>\n",
       "      <td>5.5</td>\n",
       "      <td>2016-07-06 16:35:25+00:00</td>\n",
       "      <td>Web Development</td>\n",
       "      <td>2016</td>\n",
       "    </tr>\n",
       "    <tr>\n",
       "      <th>3439</th>\n",
       "      <td>431576</td>\n",
       "      <td>Building a Social Network in PHP &amp; MySQL From ...</td>\n",
       "      <td>https://www.udemy.com/social-network-in-php-my...</td>\n",
       "      <td>True</td>\n",
       "      <td>50</td>\n",
       "      <td>869</td>\n",
       "      <td>125</td>\n",
       "      <td>78</td>\n",
       "      <td>All Levels</td>\n",
       "      <td>14.0</td>\n",
       "      <td>2015-03-17 16:54:15+00:00</td>\n",
       "      <td>Web Development</td>\n",
       "      <td>2015</td>\n",
       "    </tr>\n",
       "    <tr>\n",
       "      <th>3516</th>\n",
       "      <td>921560</td>\n",
       "      <td>For Free - Deploy Quickly Spring Boot on Herok...</td>\n",
       "      <td>https://www.udemy.com/learn-quickly-deploying-...</td>\n",
       "      <td>True</td>\n",
       "      <td>95</td>\n",
       "      <td>177</td>\n",
       "      <td>19</td>\n",
       "      <td>10</td>\n",
       "      <td>All Levels</td>\n",
       "      <td>1.0</td>\n",
       "      <td>2016-08-06 07:33:17+00:00</td>\n",
       "      <td>Web Development</td>\n",
       "      <td>2016</td>\n",
       "    </tr>\n",
       "    <tr>\n",
       "      <th>3537</th>\n",
       "      <td>726290</td>\n",
       "      <td>Star Rating Project AJAX with JSON response fr...</td>\n",
       "      <td>https://www.udemy.com/star-rating-project-ajax...</td>\n",
       "      <td>True</td>\n",
       "      <td>120</td>\n",
       "      <td>1302</td>\n",
       "      <td>18</td>\n",
       "      <td>22</td>\n",
       "      <td>Beginner Level</td>\n",
       "      <td>1.5</td>\n",
       "      <td>2016-01-13 17:02:38+00:00</td>\n",
       "      <td>Web Development</td>\n",
       "      <td>2016</td>\n",
       "    </tr>\n",
       "    <tr>\n",
       "      <th>3599</th>\n",
       "      <td>25615</td>\n",
       "      <td>Login and Registration from Scratch with PHP a...</td>\n",
       "      <td>https://www.udemy.com/authentication-from-scra...</td>\n",
       "      <td>True</td>\n",
       "      <td>20</td>\n",
       "      <td>1128</td>\n",
       "      <td>77</td>\n",
       "      <td>36</td>\n",
       "      <td>Intermediate Level</td>\n",
       "      <td>2.0</td>\n",
       "      <td>2012-10-24 09:54:08+00:00</td>\n",
       "      <td>Web Development</td>\n",
       "      <td>2012</td>\n",
       "    </tr>\n",
       "    <tr>\n",
       "      <th>3609</th>\n",
       "      <td>422012</td>\n",
       "      <td>Querying Microsoft SQL Server 2012 - (Exam No....</td>\n",
       "      <td>https://www.udemy.com/querying-sql-server-2012...</td>\n",
       "      <td>True</td>\n",
       "      <td>85</td>\n",
       "      <td>666</td>\n",
       "      <td>89</td>\n",
       "      <td>115</td>\n",
       "      <td>All Levels</td>\n",
       "      <td>6.5</td>\n",
       "      <td>2015-03-12 21:20:41+00:00</td>\n",
       "      <td>Web Development</td>\n",
       "      <td>2015</td>\n",
       "    </tr>\n",
       "    <tr>\n",
       "      <th>3638</th>\n",
       "      <td>155640</td>\n",
       "      <td>Building a Search Engine in PHP &amp; MySQL</td>\n",
       "      <td>https://www.udemy.com/creating-a-search-engine...</td>\n",
       "      <td>False</td>\n",
       "      <td>0</td>\n",
       "      <td>10110</td>\n",
       "      <td>379</td>\n",
       "      <td>12</td>\n",
       "      <td>All Levels</td>\n",
       "      <td>2.5</td>\n",
       "      <td>2014-02-03 18:07:52+00:00</td>\n",
       "      <td>Web Development</td>\n",
       "      <td>2014</td>\n",
       "    </tr>\n",
       "  </tbody>\n",
       "</table>\n",
       "</div>"
      ],
      "text/plain": [
       "      course_id                                       course_title  \\\n",
       "2479      19603  Learning Dynamic Website Design - PHP MySQL an...   \n",
       "2558    1070976  Complete E-Commerce Course - Java,Spring,Hiber...   \n",
       "2582      98066  Complete Website & CMS in PHP & MySQL From Scr...   \n",
       "2611    1171966  The Complete PHP MySQL Professional Course wit...   \n",
       "2622     992114  Build A Complete CRUD Application With PHP, MY...   \n",
       "2635     266252                          Projects in PHP and MySQL   \n",
       "2639    1155262  Angular 2 Complete E-Commerce App Course - Jav...   \n",
       "2649     267560  Learn E-Commerce Website in PHP & MySQL From S...   \n",
       "2679     304490  A 13 Hour SQL Server 2014 /ASP.NET/CSS/C#/jQue...   \n",
       "2748     978728  Thoughtful Web Development Course: HTML, Vue.j...   \n",
       "2750      32649  PHP & MySQL - Learn The Easy Way. Master PHP &...   \n",
       "2958     739770            PHP MySQL: Learn PHP MySQL with Project   \n",
       "3094     418386  Create a REAL Social Network like Facebook in ...   \n",
       "3278     425084  Administering Microsoft SQL Server 2012 Databa...   \n",
       "3282     519952  PHP: Complete Login and Registration System wi...   \n",
       "3350     425086  Implementing a Data Warehouse with SQL Server ...   \n",
       "3409     552198  Complete Login and Registration System in PHP ...   \n",
       "3437     890810           Practical Understanding of PHP and MySQL   \n",
       "3439     431576  Building a Social Network in PHP & MySQL From ...   \n",
       "3516     921560  For Free - Deploy Quickly Spring Boot on Herok...   \n",
       "3537     726290  Star Rating Project AJAX with JSON response fr...   \n",
       "3599      25615  Login and Registration from Scratch with PHP a...   \n",
       "3609     422012  Querying Microsoft SQL Server 2012 - (Exam No....   \n",
       "3638     155640            Building a Search Engine in PHP & MySQL   \n",
       "\n",
       "                                                    url  is_paid  price  \\\n",
       "2479  https://www.udemy.com/learning-dynamic-website...     True     50   \n",
       "2558  https://www.udemy.com/complete-e-commerce-cour...     True    195   \n",
       "2582  https://www.udemy.com/cms-admin-panel-in-php-m...     True     20   \n",
       "2611  https://www.udemy.com/the-complete-php-mysql-p...     True    200   \n",
       "2622  https://www.udemy.com/build-a-complete-crud-ap...     True     20   \n",
       "2635  https://www.udemy.com/the-complete-web-develop...     True     60   \n",
       "2639  https://www.udemy.com/build-angular-2-complete...     True    195   \n",
       "2649  https://www.udemy.com/ecommerce-website-in-php...    False      0   \n",
       "2679   https://www.udemy.com/learnsqlwithsqlserver2014/     True     35   \n",
       "2748  https://www.udemy.com/web-development-html5-cs...     True    200   \n",
       "2750  https://www.udemy.com/learning-php-and-mysql-d...     True     50   \n",
       "2958  https://www.udemy.com/php-mysql-project-learning/     True     20   \n",
       "3094  https://www.udemy.com/make-a-social-media-webs...     True     45   \n",
       "3278  https://www.udemy.com/administering-microsoft-...     True     60   \n",
       "3282  https://www.udemy.com/user-authentication-code...     True    200   \n",
       "3350  https://www.udemy.com/implementing-a-data-ware...     True     85   \n",
       "3409  https://www.udemy.com/login-and-registration-s...     True    200   \n",
       "3437  https://www.udemy.com/practical-understanding-...    False      0   \n",
       "3439  https://www.udemy.com/social-network-in-php-my...     True     50   \n",
       "3516  https://www.udemy.com/learn-quickly-deploying-...     True     95   \n",
       "3537  https://www.udemy.com/star-rating-project-ajax...     True    120   \n",
       "3599  https://www.udemy.com/authentication-from-scra...     True     20   \n",
       "3609  https://www.udemy.com/querying-sql-server-2012...     True     85   \n",
       "3638  https://www.udemy.com/creating-a-search-engine...    False      0   \n",
       "\n",
       "      num_subscribers  num_reviews  num_lectures               level  \\\n",
       "2479            47886          285           125          All Levels   \n",
       "2558             1371          165            83          All Levels   \n",
       "2582             3357           82            48          All Levels   \n",
       "2611            16158          159           125          All Levels   \n",
       "2622             9762           94           112          All Levels   \n",
       "2635            10606          570            88          All Levels   \n",
       "2639              949          129            89          All Levels   \n",
       "2649            29990         1342            87          All Levels   \n",
       "2679             4183          231            86  Intermediate Level   \n",
       "2748              842          144           536          All Levels   \n",
       "2750             5549           92           143          All Levels   \n",
       "2958             2314           77            25          All Levels   \n",
       "3094             1002          178           174          All Levels   \n",
       "3278              586           65            98          All Levels   \n",
       "3282             1448          173            48          All Levels   \n",
       "3350             1142          148            90          All Levels   \n",
       "3409             4714          149            28          All Levels   \n",
       "3437            12201          217            24      Beginner Level   \n",
       "3439              869          125            78          All Levels   \n",
       "3516              177           19            10          All Levels   \n",
       "3537             1302           18            22      Beginner Level   \n",
       "3599             1128           77            36  Intermediate Level   \n",
       "3609              666           89           115          All Levels   \n",
       "3638            10110          379            12          All Levels   \n",
       "\n",
       "      content_duration       published_timestamp          subject  year  \n",
       "2479              12.5 2012-06-18 16:52:34+00:00  Web Development  2012  \n",
       "2558              20.0 2017-01-16 23:50:02+00:00  Web Development  2017  \n",
       "2582              12.5 2014-04-18 09:51:00+00:00  Web Development  2014  \n",
       "2611              19.5 2017-06-07 05:58:36+00:00  Web Development  2017  \n",
       "2622              13.5 2016-11-01 15:30:36+00:00  Web Development  2016  \n",
       "2635              23.0 2014-07-25 11:11:41+00:00  Web Development  2014  \n",
       "2639              20.5 2017-03-27 16:46:54+00:00  Web Development  2017  \n",
       "2649              17.5 2014-08-10 10:27:28+00:00  Web Development  2014  \n",
       "2679              14.0 2014-10-12 06:29:05+00:00  Web Development  2014  \n",
       "2748              25.0 2016-10-11 14:18:27+00:00  Web Development  2016  \n",
       "2750              15.5 2012-12-15 15:22:52+00:00  Web Development  2012  \n",
       "2958               2.0 2016-04-21 02:06:22+00:00  Web Development  2016  \n",
       "3094              16.5 2016-09-19 15:54:37+00:00  Web Development  2016  \n",
       "3278               5.5 2015-03-23 00:20:29+00:00  Web Development  2015  \n",
       "3282               7.5 2015-06-16 20:38:45+00:00  Web Development  2015  \n",
       "3350               5.0 2015-05-01 23:08:38+00:00  Web Development  2015  \n",
       "3409               4.0 2015-07-16 22:09:55+00:00  Web Development  2015  \n",
       "3437               5.5 2016-07-06 16:35:25+00:00  Web Development  2016  \n",
       "3439              14.0 2015-03-17 16:54:15+00:00  Web Development  2015  \n",
       "3516               1.0 2016-08-06 07:33:17+00:00  Web Development  2016  \n",
       "3537               1.5 2016-01-13 17:02:38+00:00  Web Development  2016  \n",
       "3599               2.0 2012-10-24 09:54:08+00:00  Web Development  2012  \n",
       "3609               6.5 2015-03-12 21:20:41+00:00  Web Development  2015  \n",
       "3638               2.5 2014-02-03 18:07:52+00:00  Web Development  2014  "
      ]
     },
     "execution_count": 45,
     "metadata": {},
     "output_type": "execute_result"
    }
   ],
   "source": [
    "data2 = data[data.course_title.str.contains('SQL')]\n",
    "print(\"Number of courses related to SQL : \",data2.shape[0])\n",
    "data2"
   ]
  },
  {
   "cell_type": "markdown",
   "metadata": {
    "id": "xgUa04jlBhVq"
   },
   "source": [
    "---\n",
    "### 3.4 Bivariate Analysis"
   ]
  },
  {
   "cell_type": "markdown",
   "metadata": {
    "id": "Jc6iKVEZCo5-"
   },
   "source": [
    "* Here, we use two variables and compare them. This way, we can find how one feature affects the other. \n",
    "\n",
    "* It is done with scatter plots, which plot individual data points, or correlation matrices which plot the correlation in terms of hues. We can also plot box plots.\n",
    "\n",
    "* We can do this either in a graphical way or in a non-graphical way by finding specific mathematical values in the data."
   ]
  },
  {
   "cell_type": "markdown",
   "metadata": {
    "id": "7W5cL84-UOKm"
   },
   "source": [
    "### **7) What are courses that were published in the year 2012?**"
   ]
  },
  {
   "cell_type": "code",
   "execution_count": 46,
   "metadata": {
    "colab": {
     "base_uri": "https://localhost:8080/"
    },
    "id": "CqCBNajsKVZV",
    "outputId": "c22326c8-922c-45f1-ae26-d0ad67a75543"
   },
   "outputs": [
    {
     "data": {
      "text/plain": [
       "course_id                            int64\n",
       "course_title                        object\n",
       "url                                 object\n",
       "is_paid                               bool\n",
       "price                                int64\n",
       "num_subscribers                      int64\n",
       "num_reviews                          int64\n",
       "num_lectures                         int64\n",
       "level                               object\n",
       "content_duration                   float64\n",
       "published_timestamp    datetime64[ns, UTC]\n",
       "subject                             object\n",
       "year                                 int64\n",
       "dtype: object"
      ]
     },
     "execution_count": 46,
     "metadata": {},
     "output_type": "execute_result"
    }
   ],
   "source": [
    "data.dtypes"
   ]
  },
  {
   "cell_type": "markdown",
   "metadata": {
    "id": "naaQhvPTVyw5"
   },
   "source": [
    "Here We can see that date column (published_timestamp) data type is object but to work on date time we need to date column as data type of date time data type.  "
   ]
  },
  {
   "cell_type": "code",
   "execution_count": 47,
   "metadata": {
    "id": "QPp4Y8ViKVdl"
   },
   "outputs": [
    {
     "data": {
      "text/plain": [
       "course_id                            int64\n",
       "course_title                        object\n",
       "url                                 object\n",
       "is_paid                               bool\n",
       "price                                int64\n",
       "num_subscribers                      int64\n",
       "num_reviews                          int64\n",
       "num_lectures                         int64\n",
       "level                               object\n",
       "content_duration                   float64\n",
       "published_timestamp    datetime64[ns, UTC]\n",
       "subject                             object\n",
       "year                                 int64\n",
       "dtype: object"
      ]
     },
     "execution_count": 47,
     "metadata": {},
     "output_type": "execute_result"
    }
   ],
   "source": [
    "## Convert published_timestamp column data type 'object' to 'date time' data type.\n",
    "data['published_timestamp']=pd.to_datetime(data.published_timestamp)\n",
    "data.dtypes"
   ]
  },
  {
   "cell_type": "markdown",
   "metadata": {
    "id": "XLEDpPTKYqJW"
   },
   "source": []
  },
  {
   "cell_type": "code",
   "execution_count": 22,
   "metadata": {
    "colab": {
     "base_uri": "https://localhost:8080/",
     "height": 641
    },
    "id": "HLAfhIA2YQG_",
    "outputId": "9151ad34-2ba4-489f-d5a5-7cad8c0c8c50"
   },
   "outputs": [
    {
     "data": {
      "text/html": [
       "<div>\n",
       "<style scoped>\n",
       "    .dataframe tbody tr th:only-of-type {\n",
       "        vertical-align: middle;\n",
       "    }\n",
       "\n",
       "    .dataframe tbody tr th {\n",
       "        vertical-align: top;\n",
       "    }\n",
       "\n",
       "    .dataframe thead th {\n",
       "        text-align: right;\n",
       "    }\n",
       "</style>\n",
       "<table border=\"1\" class=\"dataframe\">\n",
       "  <thead>\n",
       "    <tr style=\"text-align: right;\">\n",
       "      <th></th>\n",
       "      <th>course_id</th>\n",
       "      <th>course_title</th>\n",
       "      <th>url</th>\n",
       "      <th>is_paid</th>\n",
       "      <th>price</th>\n",
       "      <th>num_subscribers</th>\n",
       "      <th>num_reviews</th>\n",
       "      <th>num_lectures</th>\n",
       "      <th>level</th>\n",
       "      <th>content_duration</th>\n",
       "      <th>published_timestamp</th>\n",
       "      <th>subject</th>\n",
       "      <th>year</th>\n",
       "    </tr>\n",
       "  </thead>\n",
       "  <tbody>\n",
       "    <tr>\n",
       "      <th>0</th>\n",
       "      <td>1070968</td>\n",
       "      <td>Ultimate Investment Banking Course</td>\n",
       "      <td>https://www.udemy.com/ultimate-investment-bank...</td>\n",
       "      <td>True</td>\n",
       "      <td>200</td>\n",
       "      <td>2147</td>\n",
       "      <td>23</td>\n",
       "      <td>51</td>\n",
       "      <td>All Levels</td>\n",
       "      <td>1.5</td>\n",
       "      <td>2017-01-18 20:58:58+00:00</td>\n",
       "      <td>Business Finance</td>\n",
       "      <td>2017</td>\n",
       "    </tr>\n",
       "    <tr>\n",
       "      <th>1</th>\n",
       "      <td>1113822</td>\n",
       "      <td>Complete GST Course &amp; Certification - Grow You...</td>\n",
       "      <td>https://www.udemy.com/goods-and-services-tax/</td>\n",
       "      <td>True</td>\n",
       "      <td>75</td>\n",
       "      <td>2792</td>\n",
       "      <td>923</td>\n",
       "      <td>274</td>\n",
       "      <td>All Levels</td>\n",
       "      <td>39.0</td>\n",
       "      <td>2017-03-09 16:34:20+00:00</td>\n",
       "      <td>Business Finance</td>\n",
       "      <td>2017</td>\n",
       "    </tr>\n",
       "    <tr>\n",
       "      <th>2</th>\n",
       "      <td>1006314</td>\n",
       "      <td>Financial Modeling for Business Analysts and C...</td>\n",
       "      <td>https://www.udemy.com/financial-modeling-for-b...</td>\n",
       "      <td>True</td>\n",
       "      <td>45</td>\n",
       "      <td>2174</td>\n",
       "      <td>74</td>\n",
       "      <td>51</td>\n",
       "      <td>Intermediate Level</td>\n",
       "      <td>2.5</td>\n",
       "      <td>2016-12-19 19:26:30+00:00</td>\n",
       "      <td>Business Finance</td>\n",
       "      <td>2016</td>\n",
       "    </tr>\n",
       "    <tr>\n",
       "      <th>3</th>\n",
       "      <td>1210588</td>\n",
       "      <td>Beginner to Pro - Financial Analysis in Excel ...</td>\n",
       "      <td>https://www.udemy.com/complete-excel-finance-c...</td>\n",
       "      <td>True</td>\n",
       "      <td>95</td>\n",
       "      <td>2451</td>\n",
       "      <td>11</td>\n",
       "      <td>36</td>\n",
       "      <td>All Levels</td>\n",
       "      <td>3.0</td>\n",
       "      <td>2017-05-30 20:07:24+00:00</td>\n",
       "      <td>Business Finance</td>\n",
       "      <td>2017</td>\n",
       "    </tr>\n",
       "    <tr>\n",
       "      <th>4</th>\n",
       "      <td>1011058</td>\n",
       "      <td>How To Maximize Your Profits Trading Options</td>\n",
       "      <td>https://www.udemy.com/how-to-maximize-your-pro...</td>\n",
       "      <td>True</td>\n",
       "      <td>200</td>\n",
       "      <td>1276</td>\n",
       "      <td>45</td>\n",
       "      <td>26</td>\n",
       "      <td>Intermediate Level</td>\n",
       "      <td>2.0</td>\n",
       "      <td>2016-12-13 14:57:18+00:00</td>\n",
       "      <td>Business Finance</td>\n",
       "      <td>2016</td>\n",
       "    </tr>\n",
       "  </tbody>\n",
       "</table>\n",
       "</div>"
      ],
      "text/plain": [
       "   course_id                                       course_title  \\\n",
       "0    1070968                 Ultimate Investment Banking Course   \n",
       "1    1113822  Complete GST Course & Certification - Grow You...   \n",
       "2    1006314  Financial Modeling for Business Analysts and C...   \n",
       "3    1210588  Beginner to Pro - Financial Analysis in Excel ...   \n",
       "4    1011058       How To Maximize Your Profits Trading Options   \n",
       "\n",
       "                                                 url  is_paid  price  \\\n",
       "0  https://www.udemy.com/ultimate-investment-bank...     True    200   \n",
       "1      https://www.udemy.com/goods-and-services-tax/     True     75   \n",
       "2  https://www.udemy.com/financial-modeling-for-b...     True     45   \n",
       "3  https://www.udemy.com/complete-excel-finance-c...     True     95   \n",
       "4  https://www.udemy.com/how-to-maximize-your-pro...     True    200   \n",
       "\n",
       "   num_subscribers  num_reviews  num_lectures               level  \\\n",
       "0             2147           23            51          All Levels   \n",
       "1             2792          923           274          All Levels   \n",
       "2             2174           74            51  Intermediate Level   \n",
       "3             2451           11            36          All Levels   \n",
       "4             1276           45            26  Intermediate Level   \n",
       "\n",
       "   content_duration       published_timestamp           subject  year  \n",
       "0               1.5 2017-01-18 20:58:58+00:00  Business Finance  2017  \n",
       "1              39.0 2017-03-09 16:34:20+00:00  Business Finance  2017  \n",
       "2               2.5 2016-12-19 19:26:30+00:00  Business Finance  2016  \n",
       "3               3.0 2017-05-30 20:07:24+00:00  Business Finance  2017  \n",
       "4               2.0 2016-12-13 14:57:18+00:00  Business Finance  2016  "
      ]
     },
     "execution_count": 22,
     "metadata": {},
     "output_type": "execute_result"
    }
   ],
   "source": [
    "## Separate year from published_timestamp column and build a new column for year in dataset.\n",
    "data['year']=data['published_timestamp'].dt.year\n",
    "data.head()"
   ]
  },
  {
   "cell_type": "code",
   "execution_count": 23,
   "metadata": {
    "colab": {
     "base_uri": "https://localhost:8080/",
     "height": 354
    },
    "id": "eU_z_Ey6YQP4",
    "outputId": "edfa8f98-1f73-42b1-e852-496bbe3f3702"
   },
   "outputs": [
    {
     "name": "stdout",
     "output_type": "stream",
     "text": [
      "Number of courses published in 2012:  45\n"
     ]
    },
    {
     "data": {
      "text/html": [
       "<div>\n",
       "<style scoped>\n",
       "    .dataframe tbody tr th:only-of-type {\n",
       "        vertical-align: middle;\n",
       "    }\n",
       "\n",
       "    .dataframe tbody tr th {\n",
       "        vertical-align: top;\n",
       "    }\n",
       "\n",
       "    .dataframe thead th {\n",
       "        text-align: right;\n",
       "    }\n",
       "</style>\n",
       "<table border=\"1\" class=\"dataframe\">\n",
       "  <thead>\n",
       "    <tr style=\"text-align: right;\">\n",
       "      <th></th>\n",
       "      <th>course_id</th>\n",
       "      <th>course_title</th>\n",
       "      <th>url</th>\n",
       "      <th>is_paid</th>\n",
       "      <th>price</th>\n",
       "      <th>num_subscribers</th>\n",
       "      <th>num_reviews</th>\n",
       "      <th>num_lectures</th>\n",
       "      <th>level</th>\n",
       "      <th>content_duration</th>\n",
       "      <th>published_timestamp</th>\n",
       "      <th>subject</th>\n",
       "      <th>year</th>\n",
       "    </tr>\n",
       "  </thead>\n",
       "  <tbody>\n",
       "    <tr>\n",
       "      <th>178</th>\n",
       "      <td>24877</td>\n",
       "      <td>Introductory Financial Accounting</td>\n",
       "      <td>https://www.udemy.com/introductory-financial-a...</td>\n",
       "      <td>True</td>\n",
       "      <td>80</td>\n",
       "      <td>1793</td>\n",
       "      <td>265</td>\n",
       "      <td>54</td>\n",
       "      <td>Beginner Level</td>\n",
       "      <td>10.0</td>\n",
       "      <td>2012-10-03 03:20:10+00:00</td>\n",
       "      <td>Business Finance</td>\n",
       "      <td>2012</td>\n",
       "    </tr>\n",
       "    <tr>\n",
       "      <th>409</th>\n",
       "      <td>28172</td>\n",
       "      <td>Practical Trading on Financial Futures &amp; Optio...</td>\n",
       "      <td>https://www.udemy.com/getting-started-with-opt...</td>\n",
       "      <td>True</td>\n",
       "      <td>50</td>\n",
       "      <td>43</td>\n",
       "      <td>0</td>\n",
       "      <td>25</td>\n",
       "      <td>Beginner Level</td>\n",
       "      <td>4.0</td>\n",
       "      <td>2012-11-12 15:01:43+00:00</td>\n",
       "      <td>Business Finance</td>\n",
       "      <td>2012</td>\n",
       "    </tr>\n",
       "    <tr>\n",
       "      <th>416</th>\n",
       "      <td>24815</td>\n",
       "      <td>Harnessing the Power of Growth Stocks</td>\n",
       "      <td>https://www.udemy.com/harnessing-the-power-of-...</td>\n",
       "      <td>True</td>\n",
       "      <td>50</td>\n",
       "      <td>29</td>\n",
       "      <td>2</td>\n",
       "      <td>7</td>\n",
       "      <td>Intermediate Level</td>\n",
       "      <td>2.0</td>\n",
       "      <td>2012-10-31 01:05:18+00:00</td>\n",
       "      <td>Business Finance</td>\n",
       "      <td>2012</td>\n",
       "    </tr>\n",
       "    <tr>\n",
       "      <th>428</th>\n",
       "      <td>25794</td>\n",
       "      <td>How To Crowdfund</td>\n",
       "      <td>https://www.udemy.com/how-to-crowdfund/</td>\n",
       "      <td>True</td>\n",
       "      <td>30</td>\n",
       "      <td>43</td>\n",
       "      <td>6</td>\n",
       "      <td>17</td>\n",
       "      <td>All Levels</td>\n",
       "      <td>1.5</td>\n",
       "      <td>2012-10-02 22:00:03+00:00</td>\n",
       "      <td>Business Finance</td>\n",
       "      <td>2012</td>\n",
       "    </tr>\n",
       "    <tr>\n",
       "      <th>815</th>\n",
       "      <td>19653</td>\n",
       "      <td>Accounting Skills for Managers</td>\n",
       "      <td>https://www.udemy.com/accounting-skills-for-ma...</td>\n",
       "      <td>True</td>\n",
       "      <td>20</td>\n",
       "      <td>78</td>\n",
       "      <td>3</td>\n",
       "      <td>10</td>\n",
       "      <td>Beginner Level</td>\n",
       "      <td>1.5</td>\n",
       "      <td>2012-06-27 16:41:09+00:00</td>\n",
       "      <td>Business Finance</td>\n",
       "      <td>2012</td>\n",
       "    </tr>\n",
       "  </tbody>\n",
       "</table>\n",
       "</div>"
      ],
      "text/plain": [
       "     course_id                                       course_title  \\\n",
       "178      24877                  Introductory Financial Accounting   \n",
       "409      28172  Practical Trading on Financial Futures & Optio...   \n",
       "416      24815              Harnessing the Power of Growth Stocks   \n",
       "428      25794                                   How To Crowdfund   \n",
       "815      19653                     Accounting Skills for Managers   \n",
       "\n",
       "                                                   url  is_paid  price  \\\n",
       "178  https://www.udemy.com/introductory-financial-a...     True     80   \n",
       "409  https://www.udemy.com/getting-started-with-opt...     True     50   \n",
       "416  https://www.udemy.com/harnessing-the-power-of-...     True     50   \n",
       "428            https://www.udemy.com/how-to-crowdfund/     True     30   \n",
       "815  https://www.udemy.com/accounting-skills-for-ma...     True     20   \n",
       "\n",
       "     num_subscribers  num_reviews  num_lectures               level  \\\n",
       "178             1793          265            54      Beginner Level   \n",
       "409               43            0            25      Beginner Level   \n",
       "416               29            2             7  Intermediate Level   \n",
       "428               43            6            17          All Levels   \n",
       "815               78            3            10      Beginner Level   \n",
       "\n",
       "     content_duration       published_timestamp           subject  year  \n",
       "178              10.0 2012-10-03 03:20:10+00:00  Business Finance  2012  \n",
       "409               4.0 2012-11-12 15:01:43+00:00  Business Finance  2012  \n",
       "416               2.0 2012-10-31 01:05:18+00:00  Business Finance  2012  \n",
       "428               1.5 2012-10-02 22:00:03+00:00  Business Finance  2012  \n",
       "815               1.5 2012-06-27 16:41:09+00:00  Business Finance  2012  "
      ]
     },
     "execution_count": 23,
     "metadata": {},
     "output_type": "execute_result"
    }
   ],
   "source": [
    "data3=data[data.year==2012]\n",
    "print(\"Number of courses published in 2012: \", data3.shape[0])\n",
    "data3.head()"
   ]
  },
  {
   "cell_type": "markdown",
   "metadata": {
    "id": "mes0HNPGcefm"
   },
   "source": [
    "### **8) Show all courses of Graphic Design where the price is below 50?**"
   ]
  },
  {
   "cell_type": "code",
   "execution_count": 24,
   "metadata": {
    "colab": {
     "base_uri": "https://localhost:8080/",
     "height": 389
    },
    "id": "39McMxLdYQXF",
    "outputId": "cde5de72-8f21-4df0-a6fe-f997b048789b"
   },
   "outputs": [
    {
     "name": "stdout",
     "output_type": "stream",
     "text": [
      "(377, 13)\n"
     ]
    },
    {
     "data": {
      "text/html": [
       "<div>\n",
       "<style scoped>\n",
       "    .dataframe tbody tr th:only-of-type {\n",
       "        vertical-align: middle;\n",
       "    }\n",
       "\n",
       "    .dataframe tbody tr th {\n",
       "        vertical-align: top;\n",
       "    }\n",
       "\n",
       "    .dataframe thead th {\n",
       "        text-align: right;\n",
       "    }\n",
       "</style>\n",
       "<table border=\"1\" class=\"dataframe\">\n",
       "  <thead>\n",
       "    <tr style=\"text-align: right;\">\n",
       "      <th></th>\n",
       "      <th>course_id</th>\n",
       "      <th>course_title</th>\n",
       "      <th>url</th>\n",
       "      <th>is_paid</th>\n",
       "      <th>price</th>\n",
       "      <th>num_subscribers</th>\n",
       "      <th>num_reviews</th>\n",
       "      <th>num_lectures</th>\n",
       "      <th>level</th>\n",
       "      <th>content_duration</th>\n",
       "      <th>published_timestamp</th>\n",
       "      <th>subject</th>\n",
       "      <th>year</th>\n",
       "    </tr>\n",
       "  </thead>\n",
       "  <tbody>\n",
       "    <tr>\n",
       "      <th>1198</th>\n",
       "      <td>1219520</td>\n",
       "      <td>Adobe Illustrator T-Shirt Design for Merch by ...</td>\n",
       "      <td>https://www.udemy.com/merchbyamazondesign/</td>\n",
       "      <td>True</td>\n",
       "      <td>20</td>\n",
       "      <td>390</td>\n",
       "      <td>44</td>\n",
       "      <td>15</td>\n",
       "      <td>All Levels</td>\n",
       "      <td>1.0</td>\n",
       "      <td>2017-06-13 20:41:14+00:00</td>\n",
       "      <td>Graphic Design</td>\n",
       "      <td>2017</td>\n",
       "    </tr>\n",
       "    <tr>\n",
       "      <th>1203</th>\n",
       "      <td>317278</td>\n",
       "      <td>Typographic Logos: Typography and Lettering fo...</td>\n",
       "      <td>https://www.udemy.com/typographic-logos-typogr...</td>\n",
       "      <td>True</td>\n",
       "      <td>25</td>\n",
       "      <td>4235</td>\n",
       "      <td>427</td>\n",
       "      <td>20</td>\n",
       "      <td>Intermediate Level</td>\n",
       "      <td>1.5</td>\n",
       "      <td>2014-10-16 19:30:01+00:00</td>\n",
       "      <td>Graphic Design</td>\n",
       "      <td>2014</td>\n",
       "    </tr>\n",
       "    <tr>\n",
       "      <th>1204</th>\n",
       "      <td>573064</td>\n",
       "      <td>Photoshop in Ease: Create World Amazing  Graph...</td>\n",
       "      <td>https://www.udemy.com/photoshop-knights-become...</td>\n",
       "      <td>True</td>\n",
       "      <td>20</td>\n",
       "      <td>14440</td>\n",
       "      <td>182</td>\n",
       "      <td>26</td>\n",
       "      <td>All Levels</td>\n",
       "      <td>3.0</td>\n",
       "      <td>2015-08-13 21:17:34+00:00</td>\n",
       "      <td>Graphic Design</td>\n",
       "      <td>2015</td>\n",
       "    </tr>\n",
       "    <tr>\n",
       "      <th>1207</th>\n",
       "      <td>590794</td>\n",
       "      <td>Illustrator Quick Tip：10分でKawaiiカメレオンを描こう</td>\n",
       "      <td>https://www.udemy.com/illustrator-quick-tip10k...</td>\n",
       "      <td>False</td>\n",
       "      <td>0</td>\n",
       "      <td>381</td>\n",
       "      <td>24</td>\n",
       "      <td>7</td>\n",
       "      <td>All Levels</td>\n",
       "      <td>0.6</td>\n",
       "      <td>2015-08-31 20:52:45+00:00</td>\n",
       "      <td>Graphic Design</td>\n",
       "      <td>2015</td>\n",
       "    </tr>\n",
       "    <tr>\n",
       "      <th>1208</th>\n",
       "      <td>1181578</td>\n",
       "      <td>Deinen Roman setzen mit PagePlus in 10 einfach...</td>\n",
       "      <td>https://www.udemy.com/deinen-roman-setzen-mit-...</td>\n",
       "      <td>False</td>\n",
       "      <td>0</td>\n",
       "      <td>69</td>\n",
       "      <td>6</td>\n",
       "      <td>25</td>\n",
       "      <td>All Levels</td>\n",
       "      <td>3.5</td>\n",
       "      <td>2017-04-24 16:44:12+00:00</td>\n",
       "      <td>Graphic Design</td>\n",
       "      <td>2017</td>\n",
       "    </tr>\n",
       "  </tbody>\n",
       "</table>\n",
       "</div>"
      ],
      "text/plain": [
       "      course_id                                       course_title  \\\n",
       "1198    1219520  Adobe Illustrator T-Shirt Design for Merch by ...   \n",
       "1203     317278  Typographic Logos: Typography and Lettering fo...   \n",
       "1204     573064  Photoshop in Ease: Create World Amazing  Graph...   \n",
       "1207     590794          Illustrator Quick Tip：10分でKawaiiカメレオンを描こう   \n",
       "1208    1181578  Deinen Roman setzen mit PagePlus in 10 einfach...   \n",
       "\n",
       "                                                    url  is_paid  price  \\\n",
       "1198         https://www.udemy.com/merchbyamazondesign/     True     20   \n",
       "1203  https://www.udemy.com/typographic-logos-typogr...     True     25   \n",
       "1204  https://www.udemy.com/photoshop-knights-become...     True     20   \n",
       "1207  https://www.udemy.com/illustrator-quick-tip10k...    False      0   \n",
       "1208  https://www.udemy.com/deinen-roman-setzen-mit-...    False      0   \n",
       "\n",
       "      num_subscribers  num_reviews  num_lectures               level  \\\n",
       "1198              390           44            15          All Levels   \n",
       "1203             4235          427            20  Intermediate Level   \n",
       "1204            14440          182            26          All Levels   \n",
       "1207              381           24             7          All Levels   \n",
       "1208               69            6            25          All Levels   \n",
       "\n",
       "      content_duration       published_timestamp         subject  year  \n",
       "1198               1.0 2017-06-13 20:41:14+00:00  Graphic Design  2017  \n",
       "1203               1.5 2014-10-16 19:30:01+00:00  Graphic Design  2014  \n",
       "1204               3.0 2015-08-13 21:17:34+00:00  Graphic Design  2015  \n",
       "1207               0.6 2015-08-31 20:52:45+00:00  Graphic Design  2015  \n",
       "1208               3.5 2017-04-24 16:44:12+00:00  Graphic Design  2017  "
      ]
     },
     "execution_count": 24,
     "metadata": {},
     "output_type": "execute_result"
    }
   ],
   "source": [
    "data4=data[(data.subject == 'Graphic Design') & (data.price < 50)]\n",
    "print(data4.shape)\n",
    "data4.head()"
   ]
  },
  {
   "cell_type": "markdown",
   "metadata": {
    "id": "dEDDbacCic79"
   },
   "source": [
    "Maximum price of udemy courses are 200 and 378 courses have price below 50."
   ]
  },
  {
   "cell_type": "markdown",
   "metadata": {
    "id": "_8C1UBt7mfyV"
   },
   "source": [
    "### **9) how to vary number of subscribers with paid courses?**"
   ]
  },
  {
   "cell_type": "code",
   "execution_count": 25,
   "metadata": {
    "colab": {
     "base_uri": "https://localhost:8080/",
     "height": 382
    },
    "id": "z2nSCNlbj9rZ",
    "outputId": "ff6f472c-0f1b-4b82-a2ec-a9a77e9f5950"
   },
   "outputs": [
    {
     "data": {
      "text/plain": [
       "<seaborn.axisgrid.FacetGrid at 0x1e05b622bb0>"
      ]
     },
     "execution_count": 25,
     "metadata": {},
     "output_type": "execute_result"
    },
    {
     "data": {
      "image/png": "[encoded data removed]",
      "text/plain": [
       "<Figure size 360x360 with 1 Axes>"
      ]
     },
     "metadata": {},
     "output_type": "display_data"
    }
   ],
   "source": [
    "sns.catplot(x='is_paid', y='num_subscribers', data= data)"
   ]
  },
  {
   "cell_type": "markdown",
   "metadata": {
    "id": "JnHONBiKQbpH"
   },
   "source": [
    "By analyzing the figure above, we can see that the number of subscribers is maximum for free courses than the paid courses. So, we can conclude that, there is a student’s preference for free of courses.\n",
    "\n"
   ]
  },
  {
   "cell_type": "markdown",
   "metadata": {
    "id": "1iGeHwg0MFMo"
   },
   "source": [
    "### **10) Subject prefered by  maximum number of students?**"
   ]
  },
  {
   "cell_type": "code",
   "execution_count": 26,
   "metadata": {
    "colab": {
     "base_uri": "https://localhost:8080/",
     "height": 483
    },
    "id": "uEjKQzZ2j91M",
    "outputId": "4268f873-c07d-4a7c-988a-893dfecf6cb8"
   },
   "outputs": [
    {
     "data": {
      "text/plain": [
       "(array([0, 1, 2, 3]),\n",
       " [Text(0, 0, 'Business Finance'),\n",
       "  Text(1, 0, 'Graphic Design'),\n",
       "  Text(2, 0, 'Musical Instruments'),\n",
       "  Text(3, 0, 'Web Development')])"
      ]
     },
     "execution_count": 26,
     "metadata": {},
     "output_type": "execute_result"
    },
    {
     "data": {
      "image/png": "[encoded data removed]",
      "text/plain": [
       "<Figure size 360x360 with 1 Axes>"
      ]
     },
     "metadata": {},
     "output_type": "display_data"
    }
   ],
   "source": [
    "sns.catplot(x='subject', y='num_subscribers', data= data)\n",
    "plt.xticks(rotation=90)"
   ]
  },
  {
   "cell_type": "markdown",
   "metadata": {
    "id": "CzDYVeNHMifa"
   },
   "source": [
    "By analyzing the figure above, we can see that maximum number of students prefer web development subject."
   ]
  },
  {
   "cell_type": "markdown",
   "metadata": {
    "id": "xowGBlvblcff"
   },
   "source": [
    "### **11) How to vary price with subjects?**"
   ]
  },
  {
   "cell_type": "code",
   "execution_count": 27,
   "metadata": {},
   "outputs": [
    {
     "data": {
      "text/plain": [
       "Text(0.5, 0, 'price')"
      ]
     },
     "execution_count": 27,
     "metadata": {},
     "output_type": "execute_result"
    },
    {
     "data": {
      "image/png": "[encoded data removed]",
      "text/plain": [
       "<Figure size 1440x720 with 1 Axes>"
      ]
     },
     "metadata": {},
     "output_type": "display_data"
    }
   ],
   "source": [
    "plt.subplot(221)\n",
    "data['price'].value_counts().plot(kind='bar', title='price distribution',figsize=(20,10))\n",
    "plt.xlabel('price')"
   ]
  },
  {
   "cell_type": "markdown",
   "metadata": {
    "id": "AtrXiAtilmRl"
   },
   "source": [
    "This figure shows all the subjects have similar prices and price vary between 0 to 200. \n",
    "\n",
    "It means all subjects courses have moderate price and affordable by the students."
   ]
  },
  {
   "cell_type": "markdown",
   "metadata": {
    "id": "PHgueQDEkq2G"
   },
   "source": [
    "### **12) Which are Top Selling Courses?**"
   ]
  },
  {
   "cell_type": "code",
   "execution_count": 28,
   "metadata": {
    "colab": {
     "base_uri": "https://localhost:8080/",
     "height": 337
    },
    "id": "6NwHEUenj935",
    "outputId": "f2408582-cead-4fc4-ac1f-c7fe78363dbc"
   },
   "outputs": [
    {
     "data": {
      "text/html": [
       "<div>\n",
       "<style scoped>\n",
       "    .dataframe tbody tr th:only-of-type {\n",
       "        vertical-align: middle;\n",
       "    }\n",
       "\n",
       "    .dataframe tbody tr th {\n",
       "        vertical-align: top;\n",
       "    }\n",
       "\n",
       "    .dataframe thead th {\n",
       "        text-align: right;\n",
       "    }\n",
       "</style>\n",
       "<table border=\"1\" class=\"dataframe\">\n",
       "  <thead>\n",
       "    <tr style=\"text-align: right;\">\n",
       "      <th></th>\n",
       "      <th>course_id</th>\n",
       "      <th>course_title</th>\n",
       "      <th>url</th>\n",
       "      <th>is_paid</th>\n",
       "      <th>price</th>\n",
       "      <th>num_subscribers</th>\n",
       "      <th>num_reviews</th>\n",
       "      <th>num_lectures</th>\n",
       "      <th>level</th>\n",
       "      <th>content_duration</th>\n",
       "      <th>published_timestamp</th>\n",
       "      <th>subject</th>\n",
       "      <th>year</th>\n",
       "    </tr>\n",
       "  </thead>\n",
       "  <tbody>\n",
       "    <tr>\n",
       "      <th>2827</th>\n",
       "      <td>41295</td>\n",
       "      <td>Learn HTML5 Programming From Scratch</td>\n",
       "      <td>https://www.udemy.com/learn-html5-programming-...</td>\n",
       "      <td>False</td>\n",
       "      <td>0</td>\n",
       "      <td>268923</td>\n",
       "      <td>8629</td>\n",
       "      <td>45</td>\n",
       "      <td>All Levels</td>\n",
       "      <td>10.5</td>\n",
       "      <td>2013-02-14 07:03:41+00:00</td>\n",
       "      <td>Web Development</td>\n",
       "      <td>2013</td>\n",
       "    </tr>\n",
       "    <tr>\n",
       "      <th>3032</th>\n",
       "      <td>59014</td>\n",
       "      <td>Coding for Entrepreneurs Basic</td>\n",
       "      <td>https://www.udemy.com/coding-for-entrepreneurs...</td>\n",
       "      <td>False</td>\n",
       "      <td>0</td>\n",
       "      <td>161029</td>\n",
       "      <td>279</td>\n",
       "      <td>27</td>\n",
       "      <td>Beginner Level</td>\n",
       "      <td>3.5</td>\n",
       "      <td>2013-06-09 15:51:55+00:00</td>\n",
       "      <td>Web Development</td>\n",
       "      <td>2013</td>\n",
       "    </tr>\n",
       "    <tr>\n",
       "      <th>3230</th>\n",
       "      <td>625204</td>\n",
       "      <td>The Web Developer Bootcamp</td>\n",
       "      <td>https://www.udemy.com/the-web-developer-bootcamp/</td>\n",
       "      <td>True</td>\n",
       "      <td>200</td>\n",
       "      <td>121584</td>\n",
       "      <td>27445</td>\n",
       "      <td>342</td>\n",
       "      <td>All Levels</td>\n",
       "      <td>43.0</td>\n",
       "      <td>2015-11-02 21:13:27+00:00</td>\n",
       "      <td>Web Development</td>\n",
       "      <td>2015</td>\n",
       "    </tr>\n",
       "    <tr>\n",
       "      <th>2783</th>\n",
       "      <td>173548</td>\n",
       "      <td>Build Your First Website in 1 Week with HTML5 ...</td>\n",
       "      <td>https://www.udemy.com/build-your-first-website...</td>\n",
       "      <td>False</td>\n",
       "      <td>0</td>\n",
       "      <td>120291</td>\n",
       "      <td>5924</td>\n",
       "      <td>30</td>\n",
       "      <td>Beginner Level</td>\n",
       "      <td>3.0</td>\n",
       "      <td>2014-04-08 16:21:30+00:00</td>\n",
       "      <td>Web Development</td>\n",
       "      <td>2014</td>\n",
       "    </tr>\n",
       "    <tr>\n",
       "      <th>3232</th>\n",
       "      <td>764164</td>\n",
       "      <td>The Complete Web Developer Course 2.0</td>\n",
       "      <td>https://www.udemy.com/the-complete-web-develop...</td>\n",
       "      <td>True</td>\n",
       "      <td>200</td>\n",
       "      <td>114512</td>\n",
       "      <td>22412</td>\n",
       "      <td>304</td>\n",
       "      <td>All Levels</td>\n",
       "      <td>30.5</td>\n",
       "      <td>2016-03-08 22:28:36+00:00</td>\n",
       "      <td>Web Development</td>\n",
       "      <td>2016</td>\n",
       "    </tr>\n",
       "  </tbody>\n",
       "</table>\n",
       "</div>"
      ],
      "text/plain": [
       "      course_id                                       course_title  \\\n",
       "2827      41295               Learn HTML5 Programming From Scratch   \n",
       "3032      59014                     Coding for Entrepreneurs Basic   \n",
       "3230     625204                         The Web Developer Bootcamp   \n",
       "2783     173548  Build Your First Website in 1 Week with HTML5 ...   \n",
       "3232     764164              The Complete Web Developer Course 2.0   \n",
       "\n",
       "                                                    url  is_paid  price  \\\n",
       "2827  https://www.udemy.com/learn-html5-programming-...    False      0   \n",
       "3032  https://www.udemy.com/coding-for-entrepreneurs...    False      0   \n",
       "3230  https://www.udemy.com/the-web-developer-bootcamp/     True    200   \n",
       "2783  https://www.udemy.com/build-your-first-website...    False      0   \n",
       "3232  https://www.udemy.com/the-complete-web-develop...     True    200   \n",
       "\n",
       "      num_subscribers  num_reviews  num_lectures           level  \\\n",
       "2827           268923         8629            45      All Levels   \n",
       "3032           161029          279            27  Beginner Level   \n",
       "3230           121584        27445           342      All Levels   \n",
       "2783           120291         5924            30  Beginner Level   \n",
       "3232           114512        22412           304      All Levels   \n",
       "\n",
       "      content_duration       published_timestamp          subject  year  \n",
       "2827              10.5 2013-02-14 07:03:41+00:00  Web Development  2013  \n",
       "3032               3.5 2013-06-09 15:51:55+00:00  Web Development  2013  \n",
       "3230              43.0 2015-11-02 21:13:27+00:00  Web Development  2015  \n",
       "2783               3.0 2014-04-08 16:21:30+00:00  Web Development  2014  \n",
       "3232              30.5 2016-03-08 22:28:36+00:00  Web Development  2016  "
      ]
     },
     "execution_count": 28,
     "metadata": {},
     "output_type": "execute_result"
    }
   ],
   "source": [
    "data5 = data.sort_values('num_subscribers', ascending=False)\n",
    "data5.head()"
   ]
  },
  {
   "cell_type": "markdown",
   "metadata": {
    "id": "Y9fGkxp5urZK"
   },
   "source": [
    "'Learn HTML5 Programming from Scratch' course has maximum number of subscribers (268923). So, we can say that HTML5 programming is more demand in industry."
   ]
  },
  {
   "cell_type": "code",
   "execution_count": 29,
   "metadata": {
    "colab": {
     "base_uri": "https://localhost:8080/",
     "height": 389
    },
    "id": "09RAYFFWuJ3J",
    "outputId": "fa00b491-9bb8-44ed-e401-5a81e636dd8f"
   },
   "outputs": [
    {
     "data": {
      "text/html": [
       "<div>\n",
       "<style scoped>\n",
       "    .dataframe tbody tr th:only-of-type {\n",
       "        vertical-align: middle;\n",
       "    }\n",
       "\n",
       "    .dataframe tbody tr th {\n",
       "        vertical-align: top;\n",
       "    }\n",
       "\n",
       "    .dataframe thead th {\n",
       "        text-align: right;\n",
       "    }\n",
       "</style>\n",
       "<table border=\"1\" class=\"dataframe\">\n",
       "  <thead>\n",
       "    <tr style=\"text-align: right;\">\n",
       "      <th></th>\n",
       "      <th>course_id</th>\n",
       "      <th>course_title</th>\n",
       "      <th>url</th>\n",
       "      <th>is_paid</th>\n",
       "      <th>price</th>\n",
       "      <th>num_subscribers</th>\n",
       "      <th>num_reviews</th>\n",
       "      <th>num_lectures</th>\n",
       "      <th>level</th>\n",
       "      <th>content_duration</th>\n",
       "      <th>published_timestamp</th>\n",
       "      <th>subject</th>\n",
       "      <th>year</th>\n",
       "      <th>revenue</th>\n",
       "    </tr>\n",
       "  </thead>\n",
       "  <tbody>\n",
       "    <tr>\n",
       "      <th>3230</th>\n",
       "      <td>625204</td>\n",
       "      <td>The Web Developer Bootcamp</td>\n",
       "      <td>https://www.udemy.com/the-web-developer-bootcamp/</td>\n",
       "      <td>True</td>\n",
       "      <td>200</td>\n",
       "      <td>121584</td>\n",
       "      <td>27445</td>\n",
       "      <td>342</td>\n",
       "      <td>All Levels</td>\n",
       "      <td>43.0</td>\n",
       "      <td>2015-11-02 21:13:27+00:00</td>\n",
       "      <td>Web Development</td>\n",
       "      <td>2015</td>\n",
       "      <td>24316800</td>\n",
       "    </tr>\n",
       "    <tr>\n",
       "      <th>3232</th>\n",
       "      <td>764164</td>\n",
       "      <td>The Complete Web Developer Course 2.0</td>\n",
       "      <td>https://www.udemy.com/the-complete-web-develop...</td>\n",
       "      <td>True</td>\n",
       "      <td>200</td>\n",
       "      <td>114512</td>\n",
       "      <td>22412</td>\n",
       "      <td>304</td>\n",
       "      <td>All Levels</td>\n",
       "      <td>30.5</td>\n",
       "      <td>2016-03-08 22:28:36+00:00</td>\n",
       "      <td>Web Development</td>\n",
       "      <td>2016</td>\n",
       "      <td>22902400</td>\n",
       "    </tr>\n",
       "    <tr>\n",
       "      <th>1979</th>\n",
       "      <td>238934</td>\n",
       "      <td>Pianoforall - Incredible New Way To Learn Pian...</td>\n",
       "      <td>https://www.udemy.com/pianoforall-incredible-n...</td>\n",
       "      <td>True</td>\n",
       "      <td>200</td>\n",
       "      <td>75499</td>\n",
       "      <td>7676</td>\n",
       "      <td>362</td>\n",
       "      <td>All Levels</td>\n",
       "      <td>30.0</td>\n",
       "      <td>2014-08-07 06:27:51+00:00</td>\n",
       "      <td>Musical Instruments</td>\n",
       "      <td>2014</td>\n",
       "      <td>15099800</td>\n",
       "    </tr>\n",
       "    <tr>\n",
       "      <th>3204</th>\n",
       "      <td>756150</td>\n",
       "      <td>Angular 4 (formerly Angular 2) - The Complete ...</td>\n",
       "      <td>https://www.udemy.com/the-complete-guide-to-an...</td>\n",
       "      <td>True</td>\n",
       "      <td>190</td>\n",
       "      <td>73783</td>\n",
       "      <td>19649</td>\n",
       "      <td>329</td>\n",
       "      <td>All Levels</td>\n",
       "      <td>22.0</td>\n",
       "      <td>2016-02-11 07:29:29+00:00</td>\n",
       "      <td>Web Development</td>\n",
       "      <td>2016</td>\n",
       "      <td>14018770</td>\n",
       "    </tr>\n",
       "    <tr>\n",
       "      <th>3247</th>\n",
       "      <td>364426</td>\n",
       "      <td>JavaScript: Understanding the Weird Parts</td>\n",
       "      <td>https://www.udemy.com/understand-javascript/</td>\n",
       "      <td>True</td>\n",
       "      <td>175</td>\n",
       "      <td>79612</td>\n",
       "      <td>16976</td>\n",
       "      <td>85</td>\n",
       "      <td>All Levels</td>\n",
       "      <td>11.5</td>\n",
       "      <td>2015-03-12 23:19:54+00:00</td>\n",
       "      <td>Web Development</td>\n",
       "      <td>2015</td>\n",
       "      <td>13932100</td>\n",
       "    </tr>\n",
       "  </tbody>\n",
       "</table>\n",
       "</div>"
      ],
      "text/plain": [
       "      course_id                                       course_title  \\\n",
       "3230     625204                         The Web Developer Bootcamp   \n",
       "3232     764164              The Complete Web Developer Course 2.0   \n",
       "1979     238934  Pianoforall - Incredible New Way To Learn Pian...   \n",
       "3204     756150  Angular 4 (formerly Angular 2) - The Complete ...   \n",
       "3247     364426          JavaScript: Understanding the Weird Parts   \n",
       "\n",
       "                                                    url  is_paid  price  \\\n",
       "3230  https://www.udemy.com/the-web-developer-bootcamp/     True    200   \n",
       "3232  https://www.udemy.com/the-complete-web-develop...     True    200   \n",
       "1979  https://www.udemy.com/pianoforall-incredible-n...     True    200   \n",
       "3204  https://www.udemy.com/the-complete-guide-to-an...     True    190   \n",
       "3247       https://www.udemy.com/understand-javascript/     True    175   \n",
       "\n",
       "      num_subscribers  num_reviews  num_lectures       level  \\\n",
       "3230           121584        27445           342  All Levels   \n",
       "3232           114512        22412           304  All Levels   \n",
       "1979            75499         7676           362  All Levels   \n",
       "3204            73783        19649           329  All Levels   \n",
       "3247            79612        16976            85  All Levels   \n",
       "\n",
       "      content_duration       published_timestamp              subject  year  \\\n",
       "3230              43.0 2015-11-02 21:13:27+00:00      Web Development  2015   \n",
       "3232              30.5 2016-03-08 22:28:36+00:00      Web Development  2016   \n",
       "1979              30.0 2014-08-07 06:27:51+00:00  Musical Instruments  2014   \n",
       "3204              22.0 2016-02-11 07:29:29+00:00      Web Development  2016   \n",
       "3247              11.5 2015-03-12 23:19:54+00:00      Web Development  2015   \n",
       "\n",
       "       revenue  \n",
       "3230  24316800  \n",
       "3232  22902400  \n",
       "1979  15099800  \n",
       "3204  14018770  \n",
       "3247  13932100  "
      ]
     },
     "execution_count": 29,
     "metadata": {},
     "output_type": "execute_result"
    }
   ],
   "source": [
    "#to calculte revenue and sort\n",
    "data5['revenue'] = data5['price']*data5['num_subscribers']\n",
    "data5 = data5.sort_values('revenue', ascending=False)\n",
    "data5.head()"
   ]
  },
  {
   "cell_type": "markdown",
   "metadata": {
    "id": "j8XTlg7Bk4HQ"
   },
   "source": [
    "\n",
    "'Learn HTML5 Programming from Scratch' course has maximum number of subscribers (268923). But maximum revenue granted by web development course and Udemy provide maximum courses for web development subjects.\n",
    "\n"
   ]
  },
  {
   "cell_type": "markdown",
   "metadata": {
    "id": "5fCYKW9BiycH"
   },
   "source": [
    "### **13) What is the Max. Number of Subscribers for Each Level of course?**"
   ]
  },
  {
   "cell_type": "code",
   "execution_count": 30,
   "metadata": {
    "colab": {
     "base_uri": "https://localhost:8080/"
    },
    "id": "IeLAO06aYQYq",
    "outputId": "d4b01749-b0ae-400b-9227-e0856862bd4f"
   },
   "outputs": [
    {
     "data": {
      "text/plain": [
       "array(['All Levels', 'Intermediate Level', 'Beginner Level',\n",
       "       'Expert Level'], dtype=object)"
      ]
     },
     "execution_count": 30,
     "metadata": {},
     "output_type": "execute_result"
    }
   ],
   "source": [
    "data.level.unique()"
   ]
  },
  {
   "cell_type": "code",
   "execution_count": 31,
   "metadata": {
    "colab": {
     "base_uri": "https://localhost:8080/"
    },
    "id": "AHCVQ2dlYQa3",
    "outputId": "93d83a00-6745-41da-e7c3-b24690cf3814"
   },
   "outputs": [
    {
     "data": {
      "text/plain": [
       "level\n",
       "All Levels            268923\n",
       "Beginner Level        161029\n",
       "Expert Level            5172\n",
       "Intermediate Level     29167\n",
       "Name: num_subscribers, dtype: int64"
      ]
     },
     "execution_count": 31,
     "metadata": {},
     "output_type": "execute_result"
    }
   ],
   "source": [
    "data.groupby('level')['num_subscribers'].max()"
   ]
  },
  {
   "cell_type": "code",
   "execution_count": 32,
   "metadata": {
    "colab": {
     "base_uri": "https://localhost:8080/",
     "height": 356
    },
    "id": "-PEX2-znYQck",
    "outputId": "d0c3be57-41cd-417f-f1dc-1df6e89f3d65"
   },
   "outputs": [
    {
     "data": {
      "text/plain": [
       "Text(0, 0.5, 'No of Subscribers')"
      ]
     },
     "execution_count": 32,
     "metadata": {},
     "output_type": "execute_result"
    },
    {
     "data": {
      "image/png": "[encoded data removed]",
      "text/plain": [
       "<Figure size 720x360 with 1 Axes>"
      ]
     },
     "metadata": {},
     "output_type": "display_data"
    }
   ],
   "source": [
    "data.groupby('level')['num_subscribers'].mean().T.plot(figsize=(10,5))\n",
    "plt.title('Total Udemy Subscription for level')\n",
    "plt.ylabel('No of Subscribers')"
   ]
  },
  {
   "cell_type": "markdown",
   "metadata": {},
   "source": [
    "### 14) Distribution of subscribers according to year"
   ]
  },
  {
   "cell_type": "code",
   "execution_count": 33,
   "metadata": {},
   "outputs": [
    {
     "data": {
      "image/png": "[encoded data removed]",
      "text/plain": [
       "<Figure size 720x360 with 1 Axes>"
      ]
     },
     "metadata": {},
     "output_type": "display_data"
    }
   ],
   "source": [
    "data5.groupby('year')['num_subscribers'].sum().plot(figsize=(10,5))\n",
    "plt.title('Total Udemy Subscription across years')\n",
    "plt.ylabel('No of Subscribers')\n",
    "plt.show()"
   ]
  },
  {
   "cell_type": "markdown",
   "metadata": {},
   "source": [
    "- The enrollment for Udemy courses is highest in year 2015."
   ]
  },
  {
   "cell_type": "markdown",
   "metadata": {
    "id": "wJY9vFJHFaEd"
   },
   "source": [
    "### **15) which subject courses are launch every year?**"
   ]
  },
  {
   "cell_type": "code",
   "execution_count": 34,
   "metadata": {},
   "outputs": [],
   "source": [
    "temp = data.groupby(['year','subject']).size().reset_index(name='Number of course')\n",
    "df_WD = temp[temp['subject']=='Web Development']\n",
    "df_BF = temp[temp['subject']=='Business Finance']\n",
    "df_GD = temp[temp['subject']=='Graphic Design']\n",
    "df_MI = temp[temp['subject']=='Musical Instruments']"
   ]
  },
  {
   "cell_type": "code",
   "execution_count": 35,
   "metadata": {},
   "outputs": [
    {
     "data": {
      "image/png": "[encoded data removed]",
      "text/plain": [
       "<Figure size 720x432 with 1 Axes>"
      ]
     },
     "metadata": {},
     "output_type": "display_data"
    }
   ],
   "source": [
    "plt.figure(figsize=(10,6)) \n",
    "plt.plot(df_WD['year'], df_WD['Number of course'], label = \"Web Development\", color='red', linewidth=2)\n",
    "plt.plot(df_BF['year'], df_BF['Number of course'], label = \"Business Finance\", color='black', linewidth=2)\n",
    "plt.plot(df_GD['year'], df_GD['Number of course'], label = \"Graphic Design\", color='blue', linewidth=2)\n",
    "plt.plot(df_MI['year'], df_MI['Number of course'], label = \"Musical Instruments\", color='yellow', linewidth=2)\n",
    "plt.xlabel('Number of course')\n",
    "# Set the y axis label of the current axis.\n",
    "plt.ylabel('year')\n",
    "# Set a title of the current axes.\n",
    "plt.title('Number of new courses launch for each subject by year')\n",
    "plt.legend()\n",
    "plt.show()"
   ]
  },
  {
   "cell_type": "markdown",
   "metadata": {
    "id": "YnZvL4Qtc5Cs"
   },
   "source": [
    "This figure shows that every year all subject courses are launched by Udemy but in 2011 only web developemrnt courses are lanuched. "
   ]
  },
  {
   "cell_type": "markdown",
   "metadata": {
    "id": "lVUW4K22pvcQ"
   },
   "source": [
    "## **4. Correlation Matrix**"
   ]
  },
  {
   "cell_type": "markdown",
   "metadata": {
    "id": "XiwrgkbRqysu"
   },
   "source": [
    "•\tA heat map is a two-dimensional representation of data in which values are represented by colors which provides a visual summary of information.\n",
    "\n",
    "•\tHeat map work with only numerical values.\n"
   ]
  },
  {
   "cell_type": "code",
   "execution_count": 36,
   "metadata": {
    "colab": {
     "base_uri": "https://localhost:8080/",
     "height": 1000
    },
    "id": "WomE2SnrqBGZ",
    "outputId": "0895ce4e-7966-429f-f50b-1c59a6b7cf88"
   },
   "outputs": [
    {
     "data": {
      "image/png": "[encoded data removed]",
      "text/plain": [
       "<Figure size 1080x576 with 2 Axes>"
      ]
     },
     "metadata": {},
     "output_type": "display_data"
    }
   ],
   "source": [
    "# heatmap of correlation values \n",
    "matrix = data.corr().round(2)\n",
    "plt.figure(figsize=(15,8))\n",
    "sns.heatmap(matrix, annot=True)\n",
    "plt.show()"
   ]
  },
  {
   "cell_type": "markdown",
   "metadata": {},
   "source": [
    " By analyzing figure, we can see that number of lectures are highly correlated to content duration and number of subscribers also correlated to number of reviews."
   ]
  },
  {
   "cell_type": "markdown",
   "metadata": {
    "id": "7EmKOzvZleC_"
   },
   "source": [
    "# **5. Conclusion**"
   ]
  },
  {
   "cell_type": "markdown",
   "metadata": {
    "id": "41SmiHlmwi73"
   },
   "source": [
    "1) Udemy provide maximum courses for \"web development\" subjects and generate maximum revenue by this subject courses. Also have maximum number of subscribers for this subject.\n",
    "\n",
    "2) Udemy provide all level of courses for student but beginner level of courses is less compared to intermediate and expert level course.\n",
    "\n",
    "3) Udemy provide student to both paid and unpaid courses but maximum number of courses are paid. And courses price vary from 0 to 200\n",
    "\n",
    "4) The maximum number of subscribers are for unpaid courses, it means price of courses are affecting student.\n",
    "\n",
    "\n",
    "5) Udemy every year launched all subjects’ courses with same frequency.\n",
    "\n",
    "\n"
   ]
  }
 ],
 "metadata": {
  "colab": {
   "collapsed_sections": [],
   "name": "Course Data Analysis",
   "provenance": [],
   "toc_visible": true
  },
  "kernelspec": {
   "display_name": "Python 3 (ipykernel)",
   "language": "python",
   "name": "python3"
  },
  "language_info": {
   "codemirror_mode": {
    "name": "ipython",
    "version": 3
   },
   "file_extension": ".py",
   "mimetype": "text/x-python",
   "name": "python",
   "nbconvert_exporter": "python",
   "pygments_lexer": "ipython3",
   "version": "3.9.12"
  }
 },
 "nbformat": 4,
 "nbformat_minor": 1
}
